{
 "cells": [
  {
   "cell_type": "code",
   "execution_count": 0,
   "metadata": {
    "id": "z7B4pZo2J02I",
    "colab_type": "code",
    "colab": {
     "autoexec": {
      "startup": false,
      "wait_interval": 0.0
     }
    }
   },
   "outputs": [],
   "source": [
    "# 授权绑定Google Drive\n",
    "!apt-get install -y -qq software-properties-common python-software-properties module-init-tools\n",
    "!add-apt-repository -y ppa:alessandro-strada/ppa 2>&1 > /dev/null\n",
    "!apt-get update -qq 2>&1 > /dev/null\n",
    "!apt-get -y install -qq google-drive-ocamlfuse fuse\n",
    "from google.colab import auth\n",
    "auth.authenticate_user()\n",
    "from oauth2client.client import GoogleCredentials\n",
    "creds = GoogleCredentials.get_application_default()\n",
    "import getpass\n",
    "!google-drive-ocamlfuse -headless -id={creds.client_id} -secret={creds.client_secret} < /dev/null 2>&1 | grep URL\n",
    "vcode = getpass.getpass()\n",
    "!echo {vcode} | google-drive-ocamlfuse -headless -id={creds.client_id} -secret={creds.client_secret}"
   ]
  },
  {
   "cell_type": "code",
   "execution_count": 0,
   "metadata": {
    "id": "L4E7zFa3sdgu",
    "colab_type": "code",
    "colab": {
     "autoexec": {
      "startup": false,
      "wait_interval": 0.0
     }
    }
   },
   "outputs": [],
   "source": [
    "# 退出\n",
    "!mkdir -p drive\n",
    "!google-drive-ocamlfuse drive\n",
    "# 指定当前的工作文件夹\n",
    "import os\n",
    "# 此处为google drive中的文件路径,drive为之前指定的工作根目录，要加上\n",
    "os.chdir(\"drive/server/LeNet5\") \n",
    "!pwd"
   ]
  },
  {
   "cell_type": "code",
   "execution_count": 0,
   "metadata": {
    "id": "H7lZTdStt08H",
    "colab_type": "code",
    "colab": {
     "autoexec": {
      "startup": false,
      "wait_interval": 0.0
     }
    }
   },
   "outputs": [],
   "source": [
    "%ls"
   ]
  },
  {
   "cell_type": "code",
   "execution_count": 0,
   "metadata": {
    "id": "UNM-e0-gshyy",
    "colab_type": "code",
    "colab": {
     "autoexec": {
      "startup": false,
      "wait_interval": 0.0
     }
    }
   },
   "outputs": [],
   "source": [
    "# 安装http://pytorch.org/\n",
    "from os import path\n",
    "from wheel.pep425tags import get_abbr_impl, get_impl_ver, get_abi_tag\n",
    "platform = '{}{}-{}'.format(get_abbr_impl(), get_impl_ver(), get_abi_tag())\n",
    "accelerator = 'cu80' if path.exists('/opt/bin/nvidia-smi') else 'cpu'\n",
    "!pip install -q http://download.pytorch.org/whl/{accelerator}/torch-0.3.0.post4-{platform}-linux_x86_64.whl torchvision\n",
    "import torch"
   ]
  },
  {
   "cell_type": "code",
   "execution_count": 0,
   "metadata": {
    "id": "cesGzfpi5EaB",
    "colab_type": "code",
    "colab": {
     "autoexec": {
      "startup": false,
      "wait_interval": 0.0
     }
    }
   },
   "outputs": [],
   "source": [
    "# 处理数据\n",
    "import gzip, struct\n",
    "import numpy as np\n",
    "\n",
    "def _read(image,label):\n",
    "    minist_dir = './data/'\n",
    "    with gzip.open(minist_dir+label) as flbl:\n",
    "        magic, num = struct.unpack(\">II\", flbl.read(8))\n",
    "        label = np.fromstring(flbl.read(), dtype=np.int8)\n",
    "    with gzip.open(minist_dir+image, 'rb') as fimg:\n",
    "        magic, num, rows, cols = struct.unpack(\">IIII\", fimg.read(16))\n",
    "        image = np.fromstring(fimg.read(), dtype=np.uint8).reshape(len(label), rows, cols)\n",
    "    return image,label\n",
    "\n",
    "def get_data():\n",
    "    train_img,train_label = _read(\n",
    "            'train-images-idx3-ubyte.gz', \n",
    "            'train-labels-idx1-ubyte.gz')\n",
    "    test_img,test_label = _read(\n",
    "            't10k-images-idx3-ubyte.gz', \n",
    "            't10k-labels-idx1-ubyte.gz')\n",
    "    return [train_img,train_label,test_img,test_label]"
   ]
  },
  {
   "cell_type": "code",
   "execution_count": 0,
   "metadata": {
    "id": "DZ9AYkS75EaH",
    "colab_type": "code",
    "colab": {
     "autoexec": {
      "startup": false,
      "wait_interval": 0.0
     }
    }
   },
   "outputs": [],
   "source": [
    "import matplotlib.pyplot as plt\n",
    "%matplotlib inline\n",
    "\n",
    "X, y, Xt, yt, = get_data()\n",
    "def imshow(img, label):\n",
    "    plt.imshow(img.reshape((28,28)))\n",
    "    plt.title(label)\n",
    "print(X[1], y[1])\n",
    "imshow(X[1], y[1])"
   ]
  },
  {
   "cell_type": "code",
   "execution_count": 0,
   "metadata": {
    "id": "xumrYm--5EaP",
    "colab_type": "code",
    "colab": {
     "autoexec": {
      "startup": false,
      "wait_interval": 0.0
     }
    }
   },
   "outputs": [],
   "source": [
    "#模型定义\n",
    "from torch import nn\n",
    "from torch.nn import functional as F\n",
    "from torch.autograd import Variable\n",
    "\n",
    "import torch\n",
    "class LeNet5(nn.Module):\n",
    "    def __init__(self):\n",
    "        super().__init__()\n",
    "        self.conv1 = nn.Conv2d(1, 6, 5, padding=2)\n",
    "        self.conv2 = nn.Conv2d(6, 16, 5)\n",
    "        self.fc1 = nn.Linear(16*5*5, 120)\n",
    "        self.fc2 = nn.Linear(120, 84)\n",
    "        self.fc3 = nn.Linear(84, 10)\n",
    "        \n",
    "        \n",
    "    def forward(self, x):\n",
    "        x = F.max_pool2d(F.relu(self.conv1(x)), (2, 2))\n",
    "        x = F.max_pool2d(F.relu(self.conv2(x)), (2, 2))\n",
    "        x = x.view(-1, self.num_flat_features(x))\n",
    "        x = F.relu(self.fc1(x))\n",
    "        x = F.relu(self.fc2(x))\n",
    "        x = self.fc3(x)\n",
    "        \n",
    "        return x\n",
    "    \n",
    "    def num_flat_features(self, x):\n",
    "        size = x.size()[1:]\n",
    "        num_features = 1\n",
    "        for s in size:\n",
    "            num_features *= s\n",
    "        return num_features"
   ]
  },
  {
   "cell_type": "code",
   "execution_count": 0,
   "metadata": {
    "id": "AyXiAdp55EaS",
    "colab_type": "code",
    "colab": {
     "autoexec": {
      "startup": false,
      "wait_interval": 0.0
     }
    }
   },
   "outputs": [],
   "source": [
    "#使用pytorch封装的dataloader进行训练和预测\n",
    "from torch.utils.data import TensorDataset, DataLoader\n",
    "from torchvision import transforms\n",
    "\n",
    "\n",
    "def custom_normalization(data, std, mean):\n",
    "    return (data - mean) / std\n",
    "\n",
    "use_gpu = torch.cuda.is_available()\n",
    "    \n",
    "batch_size = 256\n",
    "kwargs = {'num_workers': 2, 'pin_memory': True} if use_gpu else {}\n",
    "\n",
    "X, y, Xt, yt = get_data()\n",
    "#主要进行标准化处理a\n",
    "# mean, std = X.mean(), X.std()\n",
    "# X = custom_normalization(X, mean, std)\n",
    "# Xt = custom_normalization(Xt, mean, std)\n",
    "\n",
    "train_x, train_y = torch.from_numpy(X.reshape(-1, 1, 28, 28)).float(), torch.from_numpy(y.astype(int))\n",
    "test_x, test_y = [\n",
    "    torch.from_numpy(Xt.reshape(-1, 1, 28, 28)).float(),\n",
    "    torch.from_numpy(yt.astype(int))\n",
    "    ]\n",
    "\n",
    "train_dataset = TensorDataset(data_tensor=train_x, target_tensor=train_y)\n",
    "test_dataset = TensorDataset(data_tensor=test_x, target_tensor=test_y)\n",
    "\n",
    "\n",
    "train_loader = DataLoader(dataset=train_dataset, shuffle=True, batch_size=batch_size, **kwargs)\n",
    "test_loader = DataLoader(dataset=test_dataset, shuffle=True, batch_size=batch_size, **kwargs)\n",
    "\n",
    "model = LeNet5()\n",
    "if use_gpu:\n",
    "    model = model.cuda()\n",
    "    print('USE GPU')\n",
    "else:\n",
    "    print('USE CPU')\n",
    "\n",
    "criterion = nn.CrossEntropyLoss(size_average=False)\n",
    "# optimizer = torch.optim.SGD(model.parameters(), lr=0.001)\n",
    "optimizer = torch.optim.Adam(model.parameters(), lr=1e-3, betas=(0.9, 0.99))\n",
    "\n",
    "def weight_init(m):\n",
    "# 使用isinstance来判断m属于什么类型\n",
    "    if isinstance(m, nn.Conv2d):\n",
    "        import math\n",
    "        n = m.kernel_size[0] * m.kernel_size[1] * m.out_channels\n",
    "        m.weight.data.normal_(0, math.sqrt(2. / n))\n",
    "    elif isinstance(m, nn.BatchNorm2d):\n",
    "# m中的weight，bias其实都是Variable，为了能学习参数以及后向传播\n",
    "        m.weight.data.fill_(1)\n",
    "        m.bias.data.zero_()\n",
    "\n",
    "model.apply(weight_init)\n",
    "\n",
    "def train(epoch):\n",
    "    model.train()\n",
    "    for batch_idx, (data, target) in enumerate(train_loader):\n",
    "        if use_gpu:\n",
    "            data, target = data.cuda(), target.cuda()\n",
    "        data, target = Variable(data), Variable(target)\n",
    "        optimizer.zero_grad()\n",
    "        output = model(data)\n",
    "        loss = criterion(output, target)\n",
    "        loss.backward()\n",
    "        optimizer.step()\n",
    "        if batch_idx % 90 == 0:\n",
    "            print('Train Epoch: {} [{}/{} ({:.0f}%)]\\tLoss: {:.6f}'.format(\n",
    "                epoch, batch_idx * len(data), len(train_loader.dataset),\n",
    "                100. * batch_idx / len(train_loader), loss.data[0]))\n",
    "def test():\n",
    "    model.eval()\n",
    "    test_loss = 0\n",
    "    correct = 0\n",
    "    for data, target in test_loader:\n",
    "        if use_gpu:\n",
    "            data, target = data.cuda(), target.cuda()\n",
    "        data, target = Variable(data, volatile=True), Variable(target)\n",
    "        output = model(data)\n",
    "        test_loss += criterion(output, target).data[0] # sum up batch loss\n",
    "        pred = output.data.max(1, keepdim=True)[1] # get the index of the max log-probability\n",
    "        correct += pred.eq(target.data.view_as(pred)).cpu().sum()\n",
    "\n",
    "    test_loss /= len(test_loader.dataset)\n",
    "    print('\\nTest set: Average loss: {:.4f}, Accuracy: {}/{} ({:.2f}%)\\n'.format(\n",
    "        test_loss, correct, len(test_loader.dataset),\n",
    "        100. * correct / len(test_loader.dataset)))\n",
    "\n",
    "\n",
    "\n",
    "for epoch in range(1, 15):\n",
    "    train(epoch)\n",
    "    test()"
   ]
  },
  {
   "cell_type": "code",
   "execution_count": 31,
   "metadata": {
    "id": "jisu3AqR5EaX",
    "colab_type": "code",
    "colab": {
     "autoexec": {
      "startup": false,
      "wait_interval": 0.0
     },
     "output_extras": [
      {
       "item_id": 1.0
      },
      {
       "item_id": 3.0
      },
      {
       "item_id": 65.0
      },
      {
       "item_id": 127.0
      },
      {
       "item_id": 153.0
      }
     ],
     "base_uri": "https://localhost:8080/",
     "height": 3385.0
    },
    "outputId": "09d1b208-4e74-4b47-f29d-79bb26445557",
    "executionInfo": {
     "status": "ok",
     "timestamp": 1.518355476018E12,
     "user_tz": -480.0,
     "elapsed": 319727.0,
     "user": {
      "displayName": "钟凯",
      "photoUrl": "//lh6.googleusercontent.com/-53F6mnuxAtA/AAAAAAAAAAI/AAAAAAAAACM/PxkM5dM_cvI/s50-c-k-no/photo.jpg",
      "userId": "114268098483159509924"
     }
    }
   },
   "outputs": [
    {
     "name": "stdout",
     "output_type": "stream",
     "text": [
      "Loading data\n"
     ]
    },
    {
     "name": "stderr",
     "output_type": "stream",
     "text": [
      "/usr/local/lib/python3.6/dist-packages/ipykernel_launcher.py:8: DeprecationWarning: The binary mode of fromstring is deprecated, as it behaves surprisingly on unicode inputs. Use frombuffer instead\n",
      "  \n",
      "/usr/local/lib/python3.6/dist-packages/ipykernel_launcher.py:11: DeprecationWarning: The binary mode of fromstring is deprecated, as it behaves surprisingly on unicode inputs. Use frombuffer instead\n",
      "  # This is added back by InteractiveShellApp.init_path()\n"
     ]
    },
    {
     "name": "stdout",
     "output_type": "stream",
     "text": [
      "USE GPU\n",
      "Train Epoch: 0/0*256 loss is 1042.8167\n",
      "Train Epoch: 0/50*256 loss is 92.6190\n",
      "Train Epoch: 0/100*256 loss is 41.8456\n",
      "Train Epoch: 0/150*256 loss is 44.6888\n",
      "Train Epoch: 0/200*256 loss is 36.7314\n",
      "Test set: Avg Loss: 0.0899, Accuracy: 9691.0/10000(96.91%)\n",
      "Train Epoch: 1/0*256 loss is 34.0178\n",
      "Train Epoch: 1/50*256 loss is 23.8017\n",
      "Train Epoch: 1/100*256 loss is 23.1407\n",
      "Train Epoch: 1/150*256 loss is 25.5152\n",
      "Train Epoch: 1/200*256 loss is 16.7823\n",
      "Test set: Avg Loss: 0.0697, Accuracy: 9774.0/10000(97.74%)\n",
      "Train Epoch: 2/0*256 loss is 24.9579\n",
      "Train Epoch: 2/50*256 loss is 16.1070\n",
      "Train Epoch: 2/100*256 loss is 23.4568\n",
      "Train Epoch: 2/150*256 loss is 9.5557\n",
      "Train Epoch: 2/200*256 loss is 16.6277\n",
      "Test set: Avg Loss: 0.0608, Accuracy: 9804.0/10000(98.04%)\n",
      "Train Epoch: 3/0*256 loss is 18.5950\n",
      "Train Epoch: 3/50*256 loss is 17.3155\n",
      "Train Epoch: 3/100*256 loss is 19.4398\n",
      "Train Epoch: 3/150*256 loss is 6.7598\n",
      "Train Epoch: 3/200*256 loss is 12.4690\n",
      "Test set: Avg Loss: 0.0688, Accuracy: 9792.0/10000(97.92%)\n",
      "Train Epoch: 4/0*256 loss is 17.4706\n",
      "Train Epoch: 4/50*256 loss is 21.0007\n",
      "Train Epoch: 4/100*256 loss is 13.6817\n",
      "Train Epoch: 4/150*256 loss is 11.8565\n",
      "Train Epoch: 4/200*256 loss is 8.5808\n",
      "Test set: Avg Loss: 0.0680, Accuracy: 9796.0/10000(97.96%)\n",
      "Train Epoch: 5/0*256 loss is 16.2139\n",
      "Train Epoch: 5/50*256 loss is 13.8450\n",
      "Train Epoch: 5/100*256 loss is 17.0314\n",
      "Train Epoch: 5/150*256 loss is 5.6467\n",
      "Train Epoch: 5/200*256 loss is 4.3505\n",
      "Test set: Avg Loss: 0.0484, Accuracy: 9863.0/10000(98.63%)\n",
      "Train Epoch: 6/0*256 loss is 5.8181\n",
      "Train Epoch: 6/50*256 loss is 6.2525\n",
      "Train Epoch: 6/100*256 loss is 21.9374\n",
      "Train Epoch: 6/150*256 loss is 4.2957\n",
      "Train Epoch: 6/200*256 loss is 9.0582\n",
      "Test set: Avg Loss: 0.0562, Accuracy: 9834.0/10000(98.34%)\n",
      "Train Epoch: 7/0*256 loss is 7.5120\n",
      "Train Epoch: 7/50*256 loss is 8.4927\n",
      "Train Epoch: 7/100*256 loss is 3.3306\n",
      "Train Epoch: 7/150*256 loss is 5.9868\n",
      "Train Epoch: 7/200*256 loss is 8.1678\n",
      "Test set: Avg Loss: 0.0746, Accuracy: 9825.0/10000(98.25%)\n",
      "Train Epoch: 8/0*256 loss is 2.8984\n",
      "Train Epoch: 8/50*256 loss is 6.0244\n",
      "Train Epoch: 8/100*256 loss is 4.6092\n",
      "Train Epoch: 8/150*256 loss is 5.6192\n",
      "Train Epoch: 8/200*256 loss is 6.8472\n",
      "Test set: Avg Loss: 0.0622, Accuracy: 9847.0/10000(98.47%)\n",
      "Train Epoch: 9/0*256 loss is 3.4871\n",
      "Train Epoch: 9/50*256 loss is 2.7745\n",
      "Train Epoch: 9/100*256 loss is 2.0481\n",
      "Train Epoch: 9/150*256 loss is 4.4169\n",
      "Train Epoch: 9/200*256 loss is 5.9297\n",
      "Test set: Avg Loss: 0.0833, Accuracy: 9833.0/10000(98.33%)\n",
      "Train Epoch: 10/0*256 loss is 0.9805\n",
      "Train Epoch: 10/50*256 loss is 1.1147\n",
      "Train Epoch: 10/100*256 loss is 1.6107\n",
      "Train Epoch: 10/150*256 loss is 2.8792\n",
      "Train Epoch: 10/200*256 loss is 2.7522\n",
      "Test set: Avg Loss: 0.0596, Accuracy: 9870.0/10000(98.70%)\n",
      "Train Epoch: 11/0*256 loss is 1.8004\n",
      "Train Epoch: 11/50*256 loss is 4.1891\n",
      "Train Epoch: 11/100*256 loss is 5.1782\n",
      "Train Epoch: 11/150*256 loss is 1.4872\n",
      "Train Epoch: 11/200*256 loss is 14.2526\n",
      "Test set: Avg Loss: 0.0619, Accuracy: 9867.0/10000(98.67%)\n",
      "Train Epoch: 12/0*256 loss is 1.1414\n",
      "Train Epoch: 12/50*256 loss is 4.0831\n",
      "Train Epoch: 12/100*256 loss is 7.5818\n"
     ]
    },
    {
     "name": "stdout",
     "output_type": "stream",
     "text": [
      "Train Epoch: 12/150*256 loss is 1.0872\n",
      "Train Epoch: 12/200*256 loss is 4.6181\n",
      "Test set: Avg Loss: 0.1010, Accuracy: 9800.0/10000(98.00%)\n",
      "Train Epoch: 13/0*256 loss is 7.3264\n",
      "Train Epoch: 13/50*256 loss is 1.2280\n",
      "Train Epoch: 13/100*256 loss is 1.4502\n",
      "Train Epoch: 13/150*256 loss is 1.4865\n",
      "Train Epoch: 13/200*256 loss is 8.2656\n",
      "Test set: Avg Loss: 0.0732, Accuracy: 9868.0/10000(98.68%)\n",
      "Train Epoch: 14/0*256 loss is 5.3690\n",
      "Train Epoch: 14/50*256 loss is 5.6883\n",
      "Train Epoch: 14/100*256 loss is 0.4126\n",
      "Train Epoch: 14/150*256 loss is 4.9202\n",
      "Train Epoch: 14/200*256 loss is 3.5979\n",
      "Test set: Avg Loss: 0.0780, Accuracy: 9865.0/10000(98.65%)\n",
      "Train Epoch: 15/0*256 loss is 3.4398\n",
      "Train Epoch: 15/50*256 loss is 9.3396\n",
      "Train Epoch: 15/100*256 loss is 10.1977\n",
      "Train Epoch: 15/150*256 loss is 6.6802\n",
      "Train Epoch: 15/200*256 loss is 3.6437\n",
      "Test set: Avg Loss: 0.0894, Accuracy: 9843.0/10000(98.43%)\n",
      "Train Epoch: 16/0*256 loss is 7.8513\n",
      "Train Epoch: 16/50*256 loss is 5.6958\n",
      "Train Epoch: 16/100*256 loss is 5.3194\n",
      "Train Epoch: 16/150*256 loss is 3.9673\n",
      "Train Epoch: 16/200*256 loss is 2.4810\n",
      "Test set: Avg Loss: 0.0652, Accuracy: 9878.0/10000(98.78%)\n",
      "Train Epoch: 17/0*256 loss is 4.0036\n",
      "Train Epoch: 17/50*256 loss is 2.3921\n",
      "Train Epoch: 17/100*256 loss is 1.4623\n",
      "Train Epoch: 17/150*256 loss is 1.8427\n",
      "Train Epoch: 17/200*256 loss is 2.9948\n",
      "Test set: Avg Loss: 0.0758, Accuracy: 9867.0/10000(98.67%)\n",
      "Train Epoch: 18/0*256 loss is 2.9245\n",
      "Train Epoch: 18/50*256 loss is 0.2648\n",
      "Train Epoch: 18/100*256 loss is 1.7784\n",
      "Train Epoch: 18/150*256 loss is 2.6814\n",
      "Train Epoch: 18/200*256 loss is 5.3096\n",
      "Test set: Avg Loss: 0.1206, Accuracy: 9822.0/10000(98.22%)\n",
      "Train Epoch: 19/0*256 loss is 0.2809\n",
      "Train Epoch: 19/50*256 loss is 4.7523\n",
      "Train Epoch: 19/100*256 loss is 0.0583\n",
      "Train Epoch: 19/150*256 loss is 4.4046\n",
      "Train Epoch: 19/200*256 loss is 4.0501\n",
      "Test set: Avg Loss: 0.0666, Accuracy: 9884.0/10000(98.84%)\n",
      "Train Epoch: 20/0*256 loss is 0.9868\n",
      "Train Epoch: 20/50*256 loss is 0.1647\n",
      "Train Epoch: 20/100*256 loss is 1.7621\n",
      "Train Epoch: 20/150*256 loss is 0.4749\n",
      "Train Epoch: 20/200*256 loss is 3.4667\n",
      "Test set: Avg Loss: 0.0777, Accuracy: 9861.0/10000(98.61%)\n",
      "Train Epoch: 21/0*256 loss is 1.0790\n",
      "Train Epoch: 21/50*256 loss is 1.3006\n",
      "Train Epoch: 21/100*256 loss is 2.2968\n",
      "Train Epoch: 21/150*256 loss is 1.9124\n",
      "Train Epoch: 21/200*256 loss is 16.0939\n",
      "Test set: Avg Loss: 0.0925, Accuracy: 9854.0/10000(98.54%)\n",
      "Train Epoch: 22/0*256 loss is 4.3629\n",
      "Train Epoch: 22/50*256 loss is 1.2911\n",
      "Train Epoch: 22/100*256 loss is 0.0927\n",
      "Train Epoch: 22/150*256 loss is 0.0506\n",
      "Train Epoch: 22/200*256 loss is 2.8546\n",
      "Test set: Avg Loss: 0.0722, Accuracy: 9885.0/10000(98.85%)\n",
      "Train Epoch: 23/0*256 loss is 4.5880\n",
      "Train Epoch: 23/50*256 loss is 1.2401\n",
      "Train Epoch: 23/100*256 loss is 0.6092\n",
      "Train Epoch: 23/150*256 loss is 0.0871\n",
      "Train Epoch: 23/200*256 loss is 0.1933\n",
      "Test set: Avg Loss: 0.0897, Accuracy: 9874.0/10000(98.74%)\n",
      "Train Epoch: 24/0*256 loss is 9.7440\n",
      "Train Epoch: 24/50*256 loss is 6.7234\n",
      "Train Epoch: 24/100*256 loss is 12.0337\n",
      "Train Epoch: 24/150*256 loss is 0.0145\n",
      "Train Epoch: 24/200*256 loss is 1.9879\n"
     ]
    },
    {
     "name": "stdout",
     "output_type": "stream",
     "text": [
      "Test set: Avg Loss: 0.0843, Accuracy: 9886.0/10000(98.86%)\n",
      "Train Epoch: 25/0*256 loss is 1.0461\n",
      "Train Epoch: 25/50*256 loss is 0.2152\n",
      "Train Epoch: 25/100*256 loss is 9.2298\n",
      "Train Epoch: 25/150*256 loss is 5.0014\n",
      "Train Epoch: 25/200*256 loss is 1.6666\n",
      "Test set: Avg Loss: 0.0807, Accuracy: 9882.0/10000(98.82%)\n",
      "Train Epoch: 26/0*256 loss is 0.0735\n",
      "Train Epoch: 26/50*256 loss is 0.0512\n",
      "Train Epoch: 26/100*256 loss is 0.0073\n",
      "Train Epoch: 26/150*256 loss is 0.3257\n",
      "Train Epoch: 26/200*256 loss is 0.3361\n",
      "Test set: Avg Loss: 0.0750, Accuracy: 9879.0/10000(98.79%)\n",
      "Train Epoch: 27/0*256 loss is 0.3289\n",
      "Train Epoch: 27/50*256 loss is 1.9576\n",
      "Train Epoch: 27/100*256 loss is 0.0864\n",
      "Train Epoch: 27/150*256 loss is 0.1604\n",
      "Train Epoch: 27/200*256 loss is 3.5134\n",
      "Test set: Avg Loss: 0.0931, Accuracy: 9881.0/10000(98.81%)\n",
      "Train Epoch: 28/0*256 loss is 3.2872\n",
      "Train Epoch: 28/50*256 loss is 14.7543\n",
      "Train Epoch: 28/100*256 loss is 1.0816\n",
      "Train Epoch: 28/150*256 loss is 3.0755\n",
      "Train Epoch: 28/200*256 loss is 0.4711\n",
      "Test set: Avg Loss: 0.0906, Accuracy: 9875.0/10000(98.75%)\n",
      "Train Epoch: 29/0*256 loss is 0.6715\n",
      "Train Epoch: 29/50*256 loss is 1.3241\n",
      "Train Epoch: 29/100*256 loss is 0.0343\n",
      "Train Epoch: 29/150*256 loss is 0.1120\n",
      "Train Epoch: 29/200*256 loss is 0.0599\n",
      "Test set: Avg Loss: 0.1051, Accuracy: 9868.0/10000(98.68%)\n"
     ]
    }
   ],
   "source": [
    "#自定义训练预测, 不采用dataloader\n",
    "print('Loading data')\n",
    "X, y, Xt, yt = get_data()\n",
    "X, Xt = torch.from_numpy(X.reshape(-1, 1, 28, 28)), torch.from_numpy(Xt.reshape(-1, 1, 28, 28))\n",
    "y, yt = torch.from_numpy(y.astype(float)), torch.from_numpy(yt.astype(float))\n",
    "\n",
    "model = LeNet5()\n",
    "use_gpu = torch.cuda.is_available()\n",
    "if use_gpu:\n",
    "    model = model.cuda()\n",
    "    print('USE GPU')\n",
    "else:\n",
    "    print('USE CPU')\n",
    "\n",
    "criterion = nn.CrossEntropyLoss(size_average=False)\n",
    "optimizer = torch.optim.Adam(model.parameters(), lr=1e-3, betas=(0.9, 0.99))\n",
    "\n",
    "def train(epoch):\n",
    "    model.train()\n",
    "    \n",
    "    batch_size = 256\n",
    "    \n",
    "    for inx in range(int(X.shape[0]/batch_size)):\n",
    "        start_inx = inx * batch_size\n",
    "        end_inx = min((inx+1)*batch_size, X.shape[0])\n",
    "        mini_data = Variable(X[start_inx:end_inx].clone())\n",
    "        mini_label = Variable(y[start_inx:end_inx].clone())\n",
    "        mini_data = mini_data.type(torch.FloatTensor)\n",
    "        mini_label = mini_label.type(torch.LongTensor)\n",
    "        if use_gpu:\n",
    "            mini_data = mini_data.cuda()\n",
    "            mini_label = mini_label.cuda()\n",
    "        optimizer.zero_grad()\n",
    "        mini_out = model(mini_data)\n",
    "        mini_label = mini_label.view(end_inx-start_inx)\n",
    "#         print(mini_out.size(), mini_label.size())\n",
    "        mini_loss = criterion(mini_out, mini_label)\n",
    "        mini_loss.backward()\n",
    "        optimizer.step()\n",
    "        \n",
    "        if inx % 50 == 0:\n",
    "            print('Train Epoch: {}/{}*256 loss is {:.4f}'.format(epoch, inx, mini_loss.data[0]))\n",
    "\n",
    "def test():\n",
    "    model.eval()\n",
    "    test_loss = 0.\n",
    "    correct = 0.\n",
    "    nb_test = Xt.shape[0]\n",
    "    for each_sample in range(nb_test):\n",
    "        sample_data = Variable(Xt[each_sample:each_sample+1].clone(), volatile=True)\n",
    "        sample_data = sample_data.type(torch.FloatTensor)\n",
    "        sample_label = Variable(yt[each_sample:each_sample+1].clone())\n",
    "        sample_label = sample_label.type(torch.LongTensor)\n",
    "        if use_gpu:\n",
    "            sample_data = sample_data.cuda()\n",
    "            sample_label = sample_label.cuda()\n",
    "            \n",
    "        sample_out = model(sample_data)\n",
    "        \n",
    "        test_loss += criterion(sample_out, sample_label)\n",
    "        \n",
    "        pred = sample_out.data.max(1, keepdim=True)[1]\n",
    "        correct += pred.eq(sample_label.data.view_as(pred)).cpu().sum()\n",
    "    loss =  (test_loss / nb_test).data[0]\n",
    "    acc = 100. * correct / nb_test\n",
    "    print('Test set: Avg Loss: {:.4f}, Accuracy: {}/{}({:.2f}%)'.format(loss, correct, nb_test, acc))\n",
    "    \n",
    "for epoch in range(30):\n",
    "    train(epoch)\n",
    "    test()"
   ]
  },
  {
   "cell_type": "code",
   "execution_count": 47,
   "metadata": {
    "id": "rmWYm9446e56",
    "colab_type": "code",
    "colab": {
     "autoexec": {
      "startup": false,
      "wait_interval": 0.0
     },
     "output_extras": [
      {
       "item_id": 1.0
      }
     ],
     "base_uri": "https://localhost:8080/",
     "height": 266.0
    },
    "outputId": "5b0b0f17-2bbb-4afb-f07d-d0d63a87295e",
    "executionInfo": {
     "status": "ok",
     "timestamp": 1.518359869876E12,
     "user_tz": -480.0,
     "elapsed": 5182.0,
     "user": {
      "displayName": "钟凯",
      "photoUrl": "//lh6.googleusercontent.com/-53F6mnuxAtA/AAAAAAAAAAI/AAAAAAAAACM/PxkM5dM_cvI/s50-c-k-no/photo.jpg",
      "userId": "114268098483159509924"
     }
    }
   },
   "outputs": [
    {
     "data": {
      "image/png": "[encoded data removed]",
      "text/plain": [
       "<matplotlib.figure.Figure at 0x7f7ffba240f0>"
      ]
     },
     "metadata": {
      "tags": []
     },
     "output_type": "display_data"
    }
   ],
   "source": [
    "#准备噪声数据\n",
    "mu, sigma = 0, 10\n",
    "noise = np.ones((7840,10000),dtype=np.float)\n",
    "for n in range (7840):\n",
    "    noise[n] = np.random.normal(mu, sigma, 10000)\n",
    "count, bins, ignored = plt.hist(noise[50], 30, normed=True)\n",
    "plt.plot(bins, 1/(sigma * np.sqrt(2 * np.pi)) *np.exp( - (bins - mu)**2 / (2 * sigma**2) ),linewidth=2, color='r')\n",
    "intensity=5\n",
    "plt.show()\n",
    "noise=noise.reshape(10,28,28,10000)"
   ]
  },
  {
   "cell_type": "code",
   "execution_count": 48,
   "metadata": {
    "id": "WUPedSN1bMMk",
    "colab_type": "code",
    "colab": {
     "autoexec": {
      "startup": false,
      "wait_interval": 0.0
     },
     "output_extras": [
      {
       "item_id": 2.0
      },
      {
       "item_id": 3.0
      }
     ],
     "base_uri": "https://localhost:8080/",
     "height": 302.0
    },
    "outputId": "e3a2688a-72e9-4f6c-fd43-7aafe51598d1",
    "executionInfo": {
     "status": "ok",
     "timestamp": 1.518359987379E12,
     "user_tz": -480.0,
     "elapsed": 103571.0,
     "user": {
      "displayName": "钟凯",
      "photoUrl": "//lh6.googleusercontent.com/-53F6mnuxAtA/AAAAAAAAAAI/AAAAAAAAACM/PxkM5dM_cvI/s50-c-k-no/photo.jpg",
      "userId": "114268098483159509924"
     }
    }
   },
   "outputs": [
    {
     "name": "stdout",
     "output_type": "stream",
     "text": [
      "Generating data\n",
      "data1 done\n"
     ]
    },
    {
     "data": {
      "image/png": "[encoded data removed]",
      "text/plain": [
       "<matplotlib.figure.Figure at 0x7f7ffb75e978>"
      ]
     },
     "metadata": {
      "tags": []
     },
     "output_type": "display_data"
    }
   ],
   "source": [
    "#将噪声叠加到同色图\n",
    "def show(img):\n",
    "    plt.imshow(img.reshape((28,28)))\n",
    "    \n",
    "print('Generating data')\n",
    "Z=np.ones((10,10000,28,28),dtype=np.float)\n",
    "for i in range(10):\n",
    "    Z[i]=Z[i]*i*20\n",
    "    for l in range(10000):\n",
    "        for j in range(28):\n",
    "            for k in range(28):\n",
    "                Z[i,l,j,k]+=noise[i,j,k,l]*intensity/sigma;\n",
    "print('data1 done')\n",
    "\n",
    "print(Z[1,500])\n",
    "show(Z[1,500])\n",
    "Z= Z.reshape(100000, 28, 28)\n",
    "Z= torch.from_numpy(Z.reshape(-1, 1, 28, 28))"
   ]
  },
  {
   "cell_type": "code",
   "execution_count": 49,
   "metadata": {
    "id": "HNO0EhGB6mcv",
    "colab_type": "code",
    "colab": {
     "autoexec": {
      "startup": false,
      "wait_interval": 0.0
     },
     "output_extras": [
      {
       "item_id": 2.0
      },
      {
       "item_id": 4.0
      },
      {
       "item_id": 5.0
      }
     ],
     "base_uri": "https://localhost:8080/",
     "height": 3922.0
    },
    "outputId": "cfee3be0-f83c-4ea4-eee9-6fac46f6b8fd",
    "executionInfo": {
     "status": "ok",
     "timestamp": 1.518360556092E12,
     "user_tz": -480.0,
     "elapsed": 337615.0,
     "user": {
      "displayName": "钟凯",
      "photoUrl": "//lh6.googleusercontent.com/-53F6mnuxAtA/AAAAAAAAAAI/AAAAAAAAACM/PxkM5dM_cvI/s50-c-k-no/photo.jpg",
      "userId": "114268098483159509924"
     }
    }
   },
   "outputs": [
    {
     "name": "stderr",
     "output_type": "stream",
     "text": [
      "/usr/local/lib/python3.6/dist-packages/ipykernel_launcher.py:8: DeprecationWarning: The binary mode of fromstring is deprecated, as it behaves surprisingly on unicode inputs. Use frombuffer instead\n",
      "  \n",
      "/usr/local/lib/python3.6/dist-packages/ipykernel_launcher.py:11: DeprecationWarning: The binary mode of fromstring is deprecated, as it behaves surprisingly on unicode inputs. Use frombuffer instead\n",
      "  # This is added back by InteractiveShellApp.init_path()\n"
     ]
    },
    {
     "name": "stdout",
     "output_type": "stream",
     "text": [
      "Generating data\n",
      "data2 done\n",
      "[[-3.83137749e+00  1.15828481e+00 -7.69169613e-01  6.30320365e+00\n",
      "   3.65983183e+00 -3.20553713e+00 -9.30155922e+00  2.37662397e+00\n",
      "   1.35829187e-02 -3.04651205e+00  2.41943684e+00 -1.26761365e+00\n",
      "  -4.58783344e+00 -5.20630762e+00  4.40333879e+00 -2.52009817e+00\n",
      "   3.39614675e+00  5.45080110e+00 -6.42756696e+00  8.06651265e+00\n",
      "   1.86007791e+00 -4.29914704e+00 -2.45996009e+00  5.64379849e+00\n",
      "   3.40214294e+00  8.18578257e+00  5.27543276e+00  8.32293428e+00]\n",
      " [ 2.90493873e+00  3.64405071e+00  3.69835716e+00  2.13126737e+00\n",
      "   8.55505280e+00 -9.48564803e+00 -5.11624212e+00  7.68819240e+00\n",
      "   3.81790930e+00  3.46460708e+00  2.55841600e+00  2.00825584e+00\n",
      "   3.19050712e+00 -8.76084904e+00  1.73496726e-01 -7.18888794e+00\n",
      "  -8.67396101e+00  2.35479490e+00 -2.20990378e+00 -1.61261392e+00\n",
      "  -3.25229274e+00  9.89772946e+00 -8.19100989e-01 -3.58794340e+00\n",
      "   1.80017572e+00  2.69486840e+00  3.91037138e+00 -1.77046208e-01]\n",
      " [ 5.90224276e-01 -4.34827165e+00  9.06217956e+00  4.73976418e+00\n",
      "  -3.83419048e+00  8.48328522e+00  1.10859808e+01  6.95595281e+00\n",
      "  -2.16616690e+00 -1.12629034e+00  7.60679311e-01 -1.31539011e+01\n",
      "   4.27016316e-01 -5.56829430e+00 -5.90927925e+00  8.58933439e+00\n",
      "  -5.17894570e+00  2.11796035e+00  4.90737932e+00 -4.37725979e+00\n",
      "   1.31689057e+00  1.84880763e-01  4.95874158e+00  5.33295492e+00\n",
      "   9.94732451e-01  3.09481697e+00 -2.19469182e-01  1.30890701e+00]\n",
      " [-3.19658579e-01 -1.64623767e+00 -1.01319021e+00 -2.03395263e+00\n",
      "  -7.01785216e+00 -4.10486698e+00  6.77107273e+00  4.49280945e+00\n",
      "  -8.05006433e+00  3.69455297e+00  1.98210099e+00  3.22181644e-01\n",
      "   1.04895035e+01  1.02276814e+01 -3.01658168e+00 -4.76860058e+00\n",
      "  -8.91372565e+00  3.39664961e+00  4.95585718e+00 -6.94507003e+00\n",
      "   8.42101111e+00 -4.59932796e+00  2.49161204e-01 -1.95529903e+00\n",
      "  -2.04684735e+00 -2.38516716e+00 -5.09326147e+00 -6.60547797e+00]\n",
      " [-2.96815474e+00  3.18362735e+00 -6.43684018e+00  2.03137067e+00\n",
      "   1.33919228e+00  2.94710744e+00  1.58505475e+00  1.81039329e-01\n",
      "   2.13813966e+00  9.76411864e-01  2.39944988e+00  1.33050811e+00\n",
      "   9.19241775e-01  1.57367770e+00  2.28000512e+00  2.66390815e+00\n",
      "   2.69993170e-02 -1.04828676e+00 -1.37123905e+01 -1.21552721e+00\n",
      "   7.31629960e+00 -4.44195419e+00  7.30499419e-01 -1.80553423e+00\n",
      "  -1.63746737e+01  2.17729660e+00  4.97876494e+00  5.45421509e+00]\n",
      " [ 1.42466815e+00 -1.71588224e+00 -4.98421964e+00 -1.53187462e-01\n",
      "  -3.12779529e+00  1.34159897e+00  8.48545472e+00 -3.92249474e+00\n",
      "  -3.29814909e+00 -6.29769627e+00  9.15062125e+00 -6.25737220e+00\n",
      "  -1.52440545e-01 -3.32318111e+00  5.88176916e+00 -6.21522456e-02\n",
      "   7.28337062e+01  2.54917643e+02  1.07364338e+02 -3.76922893e-01\n",
      "  -1.01652412e+01 -8.67290169e+00  2.99959106e+00  3.79179170e+00\n",
      "   5.95758063e+00  7.22205604e+00 -1.89659829e+00  5.60485603e+00]\n",
      " [-3.22951054e+00  8.57839025e+00  2.37214156e+00 -9.77355768e+00\n",
      "  -5.06675930e+00  5.45623708e-02  5.53746894e+00 -3.47144201e+00\n",
      "   2.71766025e+00 -2.48623637e-01 -1.19991769e+01 -8.09177385e+00\n",
      "  -3.92897463e+00  1.51460344e+00 -3.02136226e+00  1.17537500e+01\n",
      "   2.32577387e+02  2.54901389e+02  2.55059340e+02  6.89464137e+00\n",
      "  -1.17424105e+00  3.56596182e+00 -5.98419700e+00  1.31466936e+01\n",
      "  -2.55822133e+00 -5.30229430e+00  2.15474282e-01 -3.52100741e+00]\n",
      " [ 4.02650572e+00 -6.49166795e+00  4.86958155e+00  5.81292413e+00\n",
      "  -4.63428823e+00  3.98683159e+00 -1.72415211e+00 -3.85439527e-01\n",
      "  -3.29429430e+00 -4.32326471e+00  3.87949076e+00 -1.62638594e+00\n",
      "   1.96836168e-01 -1.02318749e+01 -5.48440745e+00  8.89758119e+01\n",
      "   2.52208114e+02  2.63021871e+02  1.63447005e+02  2.66728548e+00\n",
      "  -9.19253357e+00  2.48658431e+00  3.43300980e+00 -1.88930368e+00\n",
      "   6.92753435e+00  5.14337375e-01 -7.05643162e+00  3.53008020e+00]\n",
      " [-3.39630354e-01 -1.84664577e+00  6.44892218e+00 -4.82001972e+00\n",
      "   1.17103124e+00  3.85166251e+00  9.25606118e-01  2.77466115e+00\n",
      "  -8.71103710e+00  3.71752935e+00  1.08790589e+01 -6.98120319e-01\n",
      "  -3.74186774e+00 -9.82295508e-01  7.10446312e+00  2.00124209e+02\n",
      "   2.56323588e+02  2.48257346e+02  7.78170480e+01  2.82228017e+00\n",
      "  -5.70176473e+00  4.71832811e+00 -2.59571415e-01  2.79322912e+00\n",
      "  -1.28663480e+01 -5.72655214e+00 -7.96085790e-01  3.57952806e+00]\n",
      " [ 6.80955936e+00  7.83591020e+00  7.82372924e+00 -9.37030918e+00\n",
      "  -8.66995701e-01  1.65839516e+00 -7.93274932e-01  9.60673700e+00\n",
      "   5.55319598e+00 -2.99645428e-01  2.65552806e+00  1.68848118e+00\n",
      "   1.83786439e+00  8.52942881e+00  5.05749292e+01  2.56683716e+02\n",
      "   2.53123271e+02  2.53714609e+02 -5.21438155e+00  4.16671421e+00\n",
      "   2.71691578e+00 -8.77353426e-01 -9.51390790e+00  4.72077705e+00\n",
      "  -1.28764868e+00  3.90906820e+00  8.24402466e+00 -6.33958401e+00]\n",
      " [ 2.30641324e+00  8.37981414e+00 -1.01974688e+01  7.13839198e-01\n",
      "  -9.89113087e-01 -1.05762481e+01 -6.86405171e+00  9.74320397e-01\n",
      "  -5.79925794e+00 -7.75731390e+00 -6.58115722e-01 -1.16340734e+00\n",
      "   4.74536002e+00  5.76856091e+00  1.50169996e+02  2.49548830e+02\n",
      "   2.58622789e+02  1.81604989e+02 -3.26598033e+00 -5.68472094e+00\n",
      "  -1.40687696e+00 -1.26821907e+01 -7.23577548e+00 -1.28167719e+00\n",
      "  -4.55200931e+00  2.98738207e+00 -2.97465358e+00 -8.59255462e+00]\n",
      " [ 8.53807215e+00 -2.68470775e+00  9.32856252e-01 -7.82857047e+00\n",
      "   2.60664824e+00 -8.02759293e+00 -7.62404657e+00 -5.15684095e-01\n",
      "  -7.31994003e-01  4.22508560e+00  2.15544225e+00  5.96944192e+00\n",
      "  -3.20626396e+00 -2.08935606e+00  1.94731605e+02  2.51206229e+02\n",
      "   2.52929706e+02  4.68351424e+01  2.56498370e+00  7.67928778e+00\n",
      "  -1.72817740e+00  6.16817974e+00 -2.57120057e+00 -3.19579689e+00\n",
      "  -6.46977936e+00  8.98925998e+00 -1.05247132e+00 -3.02362444e+00]\n",
      " [ 1.31891418e-01  4.98156150e-01  1.53273047e+00 -5.52835269e+00\n",
      "   8.54896918e+00 -1.01485544e+00  8.71358721e-01  1.56245856e+00\n",
      "   4.59009651e-01 -6.10861191e+00 -2.93107048e+00  1.20642421e+00\n",
      "  -1.01488041e+01  6.53822756e+01  2.50472769e+02  2.49505145e+02\n",
      "   2.27942692e+02 -3.12587743e+00  1.14893170e+00  1.27890182e+00\n",
      "   6.33925248e+00 -9.68594925e-01 -2.75686830e+00  4.18861123e+00\n",
      "   6.35979848e+00 -7.80390675e+00 -6.08982488e+00  2.50798707e+00]\n",
      " [ 3.11834437e+00  6.36903843e-01  4.52942840e-01  8.05090566e-01\n",
      "   4.39689645e-01 -2.33942589e+00  6.98842586e+00  3.08091502e+00\n",
      "   2.13410523e+00  2.19835553e+00  4.88162094e+00 -2.30323585e+00\n",
      "  -9.30718470e+00  1.05222149e+02  2.62403488e+02  2.47302837e+02\n",
      "   1.24176724e+02  1.12404379e+01 -5.51080976e+00  4.39127529e+00\n",
      "  -5.85215050e+00  9.05841988e+00 -5.21985939e+00  7.83883999e-01\n",
      "   1.04729126e+00  9.03755608e+00  8.27714530e+00 -2.32451601e+00]\n",
      " [ 5.35721783e+00  4.81879880e-01  5.43931567e+00  1.92154832e+00\n",
      "   3.14037365e-01 -1.88204742e+00 -2.07679711e+00  3.48477276e+00\n",
      "  -1.09390302e+01  6.78787248e+00  4.51414117e+00 -4.37925488e-01\n",
      "   4.84144615e+00  1.60529997e+02  2.48644214e+02  2.36233051e+02\n",
      "   2.42794774e+01 -1.91521319e+00  4.64537766e+00 -2.86510170e+00\n",
      "   3.91889782e+00  1.82986983e+00  4.45569479e+00  5.77134852e+00\n",
      "  -2.03304797e+00  8.79413512e+00 -5.55767028e+00 -7.96865656e+00]\n",
      " [ 1.63933423e+00 -8.92640239e+00  8.12946075e+00 -8.28277070e+00\n",
      "  -1.55403526e+00 -1.94066064e+00 -2.07006139e+00  5.13437603e+00\n",
      "  -5.75740795e+00 -4.38570903e+00 -5.33103642e-01  6.28401177e+00\n",
      "   5.84010452e+01  2.46190396e+02  2.51534512e+02  2.19358440e+02\n",
      "   5.91092275e-01  4.40400977e+00  3.79593666e+00  2.22522562e+00\n",
      "   2.59992325e+00  1.62525297e+00  4.30897389e-01 -2.52560798e+00\n",
      "  -2.89600749e+00  1.91714536e-01 -4.28029003e+00  2.54423306e+00]\n",
      " [-7.35075612e+00 -4.62663218e+00  5.51607331e+00  4.31581131e-01\n",
      "  -1.79088081e+00  2.94035867e+00 -1.13751352e+01 -1.77252936e+00\n",
      "  -6.29757066e+00 -5.16754420e+00 -2.77430175e+00 -2.15064360e+00\n",
      "   7.70731509e+01  2.61133039e+02  2.62628221e+02  1.61186752e+02\n",
      "   3.47642164e+00  3.69681427e+00  4.85611975e+00  2.51003764e+00\n",
      "  -2.30367749e+00  7.73067908e+00 -7.14498884e+00 -1.44587268e+00\n",
      "   2.64364873e+00  2.82119551e+00  1.43944916e+00  9.31683445e-01]\n",
      " [ 2.67022585e+00 -3.26586975e+00 -1.37109627e+00 -4.15301245e+00\n",
      "   8.66014871e+00 -5.98256611e-01 -7.10961691e+00 -1.60431369e+00\n",
      "   4.47075836e+00 -8.99976315e+00 -8.03521915e+00  5.90513432e+00\n",
      "   1.65995018e+02  2.57907268e+02  2.47517554e+02  4.93803987e+01\n",
      "   2.09737973e+00  9.84974556e-01 -9.58822009e+00 -3.34296904e-01\n",
      "   5.53633854e+00  3.71861389e-02 -5.17054271e+00  4.22636290e+00\n",
      "  -3.96322419e+00 -5.33621902e+00 -3.40473611e+00 -4.20075003e+00]\n",
      " [ 1.61203118e+00 -1.32754391e+01 -4.26116397e+00  4.08886721e+00\n",
      "  -4.96572247e-01 -3.10892529e+00 -9.24158191e+00  1.47610062e+00\n",
      "  -1.02421025e+01 -3.34598581e+00  8.62354588e+00  3.14570354e+01\n",
      "   2.59931122e+02  2.61077068e+02  2.08523309e+02  4.40330624e+00\n",
      "   6.30152536e+00 -2.46931591e+00 -5.69551657e+00  3.25440857e+00\n",
      "   4.70333939e+00 -5.03206867e+00 -9.52652998e+00  5.29587370e+00\n",
      "   1.22373438e+01 -1.41393032e+00 -2.61575212e+00  1.19675215e+00]\n",
      " [-8.57567457e+00 -4.81654188e+00  3.39266969e+00 -5.61068124e+00\n",
      "  -2.31267720e+00  5.38330601e+00  1.04718038e+00  5.44385110e+00\n",
      "   4.76627598e+00 -6.01945121e+00  6.10927747e+00  8.21497657e+01\n",
      "   2.43277140e+02  2.42828048e+02  1.29831766e+02  6.76130285e+00\n",
      "  -2.73165406e+00  2.67001259e+00  3.07838210e+00  1.84114732e+00\n",
      "   3.22709880e+00 -4.42539945e+00  3.55762855e+00  3.33870446e+00\n",
      "  -7.63265362e+00  7.86153323e+00 -1.06828088e+01 -9.95757887e+00]\n",
      " [ 4.25707066e+00  1.66732766e+00  7.83128496e+00 -3.88782808e+00\n",
      "   2.95889559e+00  7.87219184e-01 -6.48521486e-01  2.49197831e+00\n",
      "  -3.35446731e+00  1.69973887e+00  4.21542500e+00  9.46870579e+01\n",
      "   2.54247512e+02  2.32851394e+02  1.26693335e+01  2.45871508e+00\n",
      "  -2.85699592e+00  5.08610073e+00 -9.22407612e+00  5.85565170e+00\n",
      "  -5.28321907e+00  1.82198383e+00  1.18405360e+00  6.54665612e+00\n",
      "   1.72370360e+00 -1.55922297e+00 -2.71462646e+00 -3.71921553e-01]\n",
      " [-3.69311766e+00 -2.58130063e+00  5.39228173e-01  2.02003645e-01\n",
      "  -9.14585456e-01 -5.54540310e+00  1.97405129e+00 -3.44746544e+00\n",
      "   5.82983532e+00 -1.13437896e+01 -2.40649179e+00  1.72845136e+02\n",
      "   2.56625304e+02  1.98080049e+02  8.11119120e+00  1.20026933e+00\n",
      "   4.42576882e+00 -9.21658854e+00 -6.68246254e-01  3.63713745e+00\n",
      "  -5.53453301e-01 -2.00760395e+00  3.37466840e+00  4.74884703e+00\n",
      "  -5.09484310e+00 -3.69213374e+00 -4.53099116e+00  9.08430424e+00]\n",
      " [-5.35194983e-01  2.11050695e+00  5.15082029e+00 -8.40046435e-01\n",
      "   5.38351479e+00  2.25697719e+00  5.63923008e+00  2.61448815e+00\n",
      "   4.74673286e+00  2.11308812e+00  5.63418131e+00  2.20582122e+02\n",
      "   2.61974606e+02  1.91720101e+02  7.05412407e+00 -3.54640264e+00\n",
      "   5.11326103e+00  2.46170502e+00  3.90692901e+00  5.63314238e+00\n",
      "   5.87091610e+00  4.46673513e+00  9.75855953e+00 -3.19186005e+00\n",
      "   9.44101686e-01 -7.86441133e-01 -1.81323066e+00 -7.57495240e+00]\n",
      " [ 3.02506962e-01  4.43438250e+00 -2.50836805e+00  2.89425944e+00\n",
      "   3.29788044e+00  3.71434096e-01  1.19046129e+00  3.63080791e+00\n",
      "  -1.01776843e+01 -4.18262794e+00 -3.66098927e-01  1.56786146e+02\n",
      "   2.60730857e+02  1.55019706e+02 -1.45078975e-03 -7.85664160e-01\n",
      "  -3.26561954e+00  2.19972910e+00  4.42320753e+00  5.85968817e+00\n",
      "   6.17845606e+00  5.31895806e-01 -2.77991944e+00 -2.37422715e+00\n",
      "  -3.81695039e+00  4.50520053e+00  9.70200611e+00  3.51234167e+00]\n",
      " [-3.86652412e+00 -7.94437913e+00  1.59650356e+00  5.75468324e+00\n",
      "  -7.72894948e+00  8.45598033e+00 -4.58041052e+00 -5.75773015e-01\n",
      "  -4.49722990e+00  1.14484879e+00  4.81714463e+00  2.43245315e+01\n",
      "   1.54630662e+02  1.02484824e+02 -3.21219034e-01  8.81819110e-01\n",
      "  -2.09539535e+00 -4.48444302e-01 -2.94244708e+00 -4.66593621e+00\n",
      "  -4.45847075e+00 -1.13869270e+00 -6.40190505e-01 -4.61460206e-02\n",
      "  -3.85792128e+00  1.67530213e+00 -5.63290518e-01  5.19979216e+00]\n",
      " [ 2.71876388e+00 -3.23802518e+00  5.71936544e+00 -2.37602306e+00\n",
      "   1.02029678e+00  6.26999415e+00  6.17975509e+00  3.23220793e+00\n",
      "   1.97207737e+00 -7.94374923e+00  8.93242676e+00  1.44265791e+00\n",
      "   1.45390095e+00  1.31943558e+00  6.83539217e+00  3.54814272e+00\n",
      "   2.93981089e+00  4.62795049e+00 -6.53785491e+00  3.07326943e+00\n",
      "   3.22401561e+00 -1.03468239e+01 -1.09619989e+00 -8.15602075e-01\n",
      "  -1.22359623e+00 -8.11318720e+00 -7.42885432e+00 -1.42771914e-01]\n",
      " [ 8.41038978e+00  2.35649967e+00 -1.13650667e+00  1.24514767e+00\n",
      "   4.39153638e+00  3.24901330e+00 -9.33621847e-01 -2.58077202e+00\n",
      "   6.69451818e+00 -7.50926105e-01 -1.36770319e+00  9.91336457e+00\n",
      "   1.28179197e+00  3.53488475e+00  6.65417443e+00 -5.21527115e+00\n",
      "   1.18836075e+00  4.40808520e+00  4.81075387e-01 -1.27457933e+01\n",
      "  -2.55437850e+00  3.13990629e+00  3.35143091e+00 -4.17253676e+00\n",
      "  -2.24257953e+00  1.05900096e+01 -7.17588666e+00 -8.45179967e+00]\n",
      " [-6.92159884e+00 -6.68551044e+00  2.59655129e+00 -4.67384459e+00\n",
      "   4.88958158e+00 -4.73362083e+00 -4.07656857e+00  5.21000915e-01\n",
      "  -4.86838444e+00 -3.39497345e+00  3.06374904e+00  3.59233916e+00\n",
      "   1.46532354e+00 -6.68352849e+00  7.58653548e+00 -4.60308109e+00\n",
      "  -8.44145179e+00  1.37995633e+00 -2.91463176e+00 -2.94992946e+00\n",
      "  -1.89202165e-01  3.07123210e+00 -1.98753578e+00  7.98507478e+00\n",
      "   2.21902255e+00 -5.21748112e+00 -6.41199676e+00  1.14143949e+01]]\n"
     ]
    },
    {
     "data": {
      "image/png": "[encoded data removed]",
      "text/plain": [
       "<matplotlib.figure.Figure at 0x7f7ffbbec400>"
      ]
     },
     "metadata": {
      "tags": []
     },
     "output_type": "display_data"
    }
   ],
   "source": [
    "#将噪声叠加到测试数据\n",
    "#yt = torch.from_numpy(yt.astype(float))\n",
    "X, y, Xt, yt = get_data()\n",
    "print('Generating data')\n",
    "ZZ=np.ones((10,10000,28,28),dtype=np.float)\n",
    "ZZori=np.ones((10,28,28),dtype=np.float)\n",
    "for i in range(10):\n",
    "    for l in range(10000):\n",
    "        for j in range(28):\n",
    "            for k in range(28):\n",
    "                ZZ[i,l,j,k]=Xt[i,j,k]+noise[i,j,k,l]*intensity/sigma;\n",
    "                ZZori[i,j,k]=Xt[i,j,k];\n",
    "print('data2 done')\n",
    "\n",
    "print(ZZ[5,500])\n",
    "show(ZZ[5,500])\n",
    "ZZ= ZZ.reshape(100000, 28, 28)\n",
    "yt = torch.from_numpy(yt.astype(float))\n",
    "ZZ= torch.from_numpy(ZZ.reshape(-1, 1, 28, 28))\n",
    "ZZori= torch.from_numpy(ZZori.reshape(-1, 1, 28, 28))"
   ]
  },
  {
   "cell_type": "code",
   "execution_count": 50,
   "metadata": {
    "id": "yzThjXgQ0Pfq",
    "colab_type": "code",
    "colab": {
     "autoexec": {
      "startup": false,
      "wait_interval": 0.0
     },
     "output_extras": [
      {
       "item_id": 1.0
      },
      {
       "item_id": 2.0
      },
      {
       "item_id": 3.0
      },
      {
       "item_id": 4.0
      },
      {
       "item_id": 5.0
      },
      {
       "item_id": 6.0
      },
      {
       "item_id": 7.0
      },
      {
       "item_id": 8.0
      },
      {
       "item_id": 9.0
      },
      {
       "item_id": 10.0
      },
      {
       "item_id": 11.0
      },
      {
       "item_id": 12.0
      },
      {
       "item_id": 13.0
      },
      {
       "item_id": 14.0
      },
      {
       "item_id": 15.0
      },
      {
       "item_id": 16.0
      },
      {
       "item_id": 17.0
      },
      {
       "item_id": 18.0
      },
      {
       "item_id": 19.0
      },
      {
       "item_id": 20.0
      }
     ],
     "base_uri": "https://localhost:8080/",
     "height": 2683.0
    },
    "outputId": "5fbad9ac-81a9-4ef6-fe0d-89ff451f894d",
    "executionInfo": {
     "status": "ok",
     "timestamp": 1.518360986802E12,
     "user_tz": -480.0,
     "elapsed": 74496.0,
     "user": {
      "displayName": "钟凯",
      "photoUrl": "//lh6.googleusercontent.com/-53F6mnuxAtA/AAAAAAAAAAI/AAAAAAAAACM/PxkM5dM_cvI/s50-c-k-no/photo.jpg",
      "userId": "114268098483159509924"
     }
    }
   },
   "outputs": [
    {
     "data": {
      "image/png": "[encoded data removed]",
      "text/plain": [
       "<matplotlib.figure.Figure at 0x7f804eba0f98>"
      ]
     },
     "metadata": {
      "tags": []
     },
     "output_type": "display_data"
    },
    {
     "name": "stdout",
     "output_type": "stream",
     "text": [
      "-0.20397851597964764    0.2689202703723235\n"
     ]
    },
    {
     "data": {
      "image/png": "[encoded data removed]",
      "text/plain": [
       "<matplotlib.figure.Figure at 0x7f7ffbd2fa90>"
      ]
     },
     "metadata": {
      "tags": []
     },
     "output_type": "display_data"
    },
    {
     "name": "stdout",
     "output_type": "stream",
     "text": [
      "-0.1698405198764056    0.053359432801937993\n"
     ]
    },
    {
     "data": {
      "image/png": "[encoded data removed]",
      "text/plain": [
       "<matplotlib.figure.Figure at 0x7f803ca13dd8>"
      ]
     },
     "metadata": {
      "tags": []
     },
     "output_type": "display_data"
    },
    {
     "name": "stdout",
     "output_type": "stream",
     "text": [
      "-0.21569686254262924    0.06220782662432117\n"
     ]
    },
    {
     "data": {
      "image/png": "[encoded data removed]",
      "text/plain": [
       "<matplotlib.figure.Figure at 0x7f7ffbea3390>"
      ]
     },
     "metadata": {
      "tags": []
     },
     "output_type": "display_data"
    },
    {
     "name": "stdout",
     "output_type": "stream",
     "text": [
      "-0.23622349750101565    0.062477958552309844\n"
     ]
    },
    {
     "data": {
      "image/png": "[encoded data removed]",
      "text/plain": [
       "<matplotlib.figure.Figure at 0x7f7ffbd776d8>"
      ]
     },
     "metadata": {
      "tags": []
     },
     "output_type": "display_data"
    },
    {
     "name": "stdout",
     "output_type": "stream",
     "text": [
      "-0.25604110646396877    0.06306562244272951\n"
     ]
    },
    {
     "data": {
      "image/png": "[encoded data removed]",
      "text/plain": [
       "<matplotlib.figure.Figure at 0x7f8000b45ba8>"
      ]
     },
     "metadata": {
      "tags": []
     },
     "output_type": "display_data"
    },
    {
     "name": "stdout",
     "output_type": "stream",
     "text": [
      "-0.2760594960425049    0.06629792049555196\n"
     ]
    },
    {
     "data": {
      "image/png": "[encoded data removed]",
      "text/plain": [
       "<matplotlib.figure.Figure at 0x7f7ffbdc6f60>"
      ]
     },
     "metadata": {
      "tags": []
     },
     "output_type": "display_data"
    },
    {
     "name": "stdout",
     "output_type": "stream",
     "text": [
      "-0.3056470229409635    0.071127802396661\n"
     ]
    },
    {
     "data": {
      "image/png": "[encoded data removed]",
      "text/plain": [
       "<matplotlib.figure.Figure at 0x7f803c93a438>"
      ]
     },
     "metadata": {
      "tags": []
     },
     "output_type": "display_data"
    },
    {
     "name": "stdout",
     "output_type": "stream",
     "text": [
      "-0.34339655002653596    0.07657831812312721\n"
     ]
    },
    {
     "data": {
      "image/png": "[encoded data removed]",
      "text/plain": [
       "<matplotlib.figure.Figure at 0x7f7ffb8b1470>"
      ]
     },
     "metadata": {
      "tags": []
     },
     "output_type": "display_data"
    },
    {
     "name": "stdout",
     "output_type": "stream",
     "text": [
      "-0.38485674155876043    0.08239536938983785\n"
     ]
    },
    {
     "data": {
      "image/png": "[encoded data removed]",
      "text/plain": [
       "<matplotlib.figure.Figure at 0x7f805d764668>"
      ]
     },
     "metadata": {
      "tags": []
     },
     "output_type": "display_data"
    },
    {
     "name": "stdout",
     "output_type": "stream",
     "text": [
      "-0.43208098502755166    0.08813455385333442\n"
     ]
    }
   ],
   "source": [
    "#对同色图进行实验\n",
    "def exam():\n",
    "    out=np.ones((10000,10),dtype=np.float)\n",
    "    model.eval()\n",
    "    for each_point in range(10):\n",
    "        for each_sample in range(10000):\n",
    "            sample_data = Variable(Z[each_point*10000+each_sample:each_point*10000+each_sample+1].clone(), volatile=True)\n",
    "            sample_data = sample_data.type(torch.FloatTensor)\n",
    "            if use_gpu:\n",
    "                sample_data = sample_data.cuda()\n",
    "            sample_out = model(sample_data)\n",
    "            out[each_sample] = sample_out.data.cpu().numpy()\n",
    "        mean = out[:,5].mean()\n",
    "        std = out[:,5].std()\n",
    "        count, bins, ignored = plt.hist(out[:,5], 30, normed=True)#输出分布图只画输出的第5维（整个输出是10维）\n",
    "        plt.plot(bins, 1/(std * np.sqrt(2 * np.pi)) *np.exp( - (bins - mean)**2 / (2 * std**2) ),linewidth=2, color='r')\n",
    "        plt.show()\n",
    "        print(mean,\"  \",std)\n",
    "exam()"
   ]
  },
  {
   "cell_type": "code",
   "execution_count": 51,
   "metadata": {
    "id": "MNLOE4Dj7Jqh",
    "colab_type": "code",
    "colab": {
     "autoexec": {
      "startup": false,
      "wait_interval": 0.0
     },
     "output_extras": [
      {
       "item_id": 1.0
      },
      {
       "item_id": 2.0
      },
      {
       "item_id": 3.0
      },
      {
       "item_id": 4.0
      },
      {
       "item_id": 5.0
      },
      {
       "item_id": 6.0
      },
      {
       "item_id": 7.0
      },
      {
       "item_id": 8.0
      },
      {
       "item_id": 9.0
      },
      {
       "item_id": 10.0
      },
      {
       "item_id": 11.0
      },
      {
       "item_id": 12.0
      },
      {
       "item_id": 13.0
      },
      {
       "item_id": 14.0
      },
      {
       "item_id": 15.0
      },
      {
       "item_id": 16.0
      },
      {
       "item_id": 17.0
      },
      {
       "item_id": 18.0
      },
      {
       "item_id": 19.0
      },
      {
       "item_id": 20.0
      },
      {
       "item_id": 21.0
      }
     ],
     "base_uri": "https://localhost:8080/",
     "height": 5381.0
    },
    "outputId": "8dcac611-06e9-498e-96e5-ac59799ac818",
    "executionInfo": {
     "status": "ok",
     "timestamp": 1.518361747306E12,
     "user_tz": -480.0,
     "elapsed": 72380.0,
     "user": {
      "displayName": "钟凯",
      "photoUrl": "//lh6.googleusercontent.com/-53F6mnuxAtA/AAAAAAAAAAI/AAAAAAAAACM/PxkM5dM_cvI/s50-c-k-no/photo.jpg",
      "userId": "114268098483159509924"
     }
    }
   },
   "outputs": [
    {
     "name": "stdout",
     "output_type": "stream",
     "text": [
      "[[-32.247314   -8.581349    1.2747118  -9.33826   -11.9279    -37.04799\n",
      "  -57.699898   51.50115   -38.299606   -5.7306185]]\n",
      "ori: \n",
      " 7\n",
      "[torch.cuda.LongTensor of size 1x1 (GPU 0)]\n",
      "    Variable containing:\n",
      " 7\n",
      "[torch.cuda.LongTensor of size 1 (GPU 0)]\n",
      "\n"
     ]
    },
    {
     "data": {
      "image/png": "[encoded data removed]",
      "text/plain": [
       "<matplotlib.figure.Figure at 0x7f7ffbdcb208>"
      ]
     },
     "metadata": {
      "tags": []
     },
     "output_type": "display_data"
    },
    {
     "name": "stdout",
     "output_type": "stream",
     "text": [
      "-7.962923009967804    0.6403837204154544\n",
      "[-29.98349599  -7.96292301   1.36420389 -10.0286171  -11.60741492\n",
      " -34.99111759 -54.53309643  48.66930871 -36.10428994  -5.36363822]\n",
      "noise: [48.66930871391296]    Variable containing:\n",
      " 7\n",
      "[torch.cuda.LongTensor of size 1 (GPU 0)]\n",
      "\n",
      "[[  4.412962   -5.8918853  37.206505  -12.427958  -14.002415  -31.506578\n",
      "   -7.2494764  -4.423806  -24.73242   -22.199852 ]]\n",
      "ori: \n",
      " 2\n",
      "[torch.cuda.LongTensor of size 1x1 (GPU 0)]\n",
      "    Variable containing:\n",
      " 2\n",
      "[torch.cuda.LongTensor of size 1 (GPU 0)]\n",
      "\n"
     ]
    },
    {
     "data": {
      "image/png": "[encoded data removed]",
      "text/plain": [
       "<matplotlib.figure.Figure at 0x7f7ffbc63c88>"
      ]
     },
     "metadata": {
      "tags": []
     },
     "output_type": "display_data"
    },
    {
     "name": "stdout",
     "output_type": "stream",
     "text": [
      "-4.970396398973465    0.6582442298280446\n",
      "[  4.8939891   -4.9703964   35.00748699 -12.54807145 -12.08315432\n",
      " -29.86660128  -6.43300205  -4.40378382 -25.32251628 -21.00852308]\n",
      "noise: [35.00748699092865]    Variable containing:\n",
      " 2\n",
      "[torch.cuda.LongTensor of size 1 (GPU 0)]\n",
      "\n",
      "[[-44.814793   46.065647  -14.4246645 -41.29223   -13.312478  -31.851423\n",
      "  -18.013117  -14.632761  -22.01767   -25.641685 ]]\n",
      "ori: \n",
      " 1\n",
      "[torch.cuda.LongTensor of size 1x1 (GPU 0)]\n",
      "    Variable containing:\n",
      " 1\n",
      "[torch.cuda.LongTensor of size 1 (GPU 0)]\n",
      "\n"
     ]
    },
    {
     "data": {
      "image/png": "[encoded data removed]",
      "text/plain": [
       "<matplotlib.figure.Figure at 0x7f7ffb7ae668>"
      ]
     },
     "metadata": {
      "tags": []
     },
     "output_type": "display_data"
    },
    {
     "name": "stdout",
     "output_type": "stream",
     "text": [
      "42.266749126815796    1.1202150855394803\n",
      "[-41.93160559  42.26674913 -13.73470174 -37.80445795 -12.66087417\n",
      " -27.72024108 -17.246833   -14.20759383 -22.1732016  -23.7529077 ]\n",
      "noise: [42.266749126815796]    Variable containing:\n",
      " 1\n",
      "[torch.cuda.LongTensor of size 1 (GPU 0)]\n",
      "\n",
      "[[ 35.3274   -27.974241 -11.80655  -26.237015 -43.783024 -18.960741\n",
      "  -11.462903  -8.308491 -10.739206 -16.357658]]\n",
      "ori: \n",
      " 0\n",
      "[torch.cuda.LongTensor of size 1x1 (GPU 0)]\n",
      "    Variable containing:\n",
      " 0\n",
      "[torch.cuda.LongTensor of size 1 (GPU 0)]\n",
      "\n"
     ]
    },
    {
     "data": {
      "image/png": "[encoded data removed]",
      "text/plain": [
       "<matplotlib.figure.Figure at 0x7f7ffbbc3fd0>"
      ]
     },
     "metadata": {
      "tags": []
     },
     "output_type": "display_data"
    },
    {
     "name": "stdout",
     "output_type": "stream",
     "text": [
      "-26.270998844146728    0.6253106001817156\n",
      "[ 33.68337658 -26.27099884 -11.56227924 -25.02495451 -42.13418622\n",
      " -17.84298237 -11.68275554  -6.26939308 -12.37182885 -14.63534992]\n",
      "noise: [33.68337658138275]    Variable containing:\n",
      " 0\n",
      "[torch.cuda.LongTensor of size 1 (GPU 0)]\n",
      "\n",
      "[[-22.612509   -14.670223   -29.637096   -22.834929    24.025164\n",
      "  -17.742567   -13.476425   -11.509045   -11.1895       0.23117782]]\n",
      "ori: \n",
      " 4\n",
      "[torch.cuda.LongTensor of size 1x1 (GPU 0)]\n",
      "    Variable containing:\n",
      " 4\n",
      "[torch.cuda.LongTensor of size 1 (GPU 0)]\n",
      "\n"
     ]
    },
    {
     "data": {
      "image/png": "[encoded data removed]",
      "text/plain": [
       "<matplotlib.figure.Figure at 0x7f7ffbe9f978>"
      ]
     },
     "metadata": {
      "tags": []
     },
     "output_type": "display_data"
    },
    {
     "name": "stdout",
     "output_type": "stream",
     "text": [
      "-13.809824262237548    0.47116081997518644\n",
      "[-20.01764241 -13.80982426 -26.2636164  -19.77899731  21.59084204\n",
      " -16.114609   -13.13688908  -9.22290104 -10.01324231   2.62113686]\n",
      "noise: [21.590842044067383]    Variable containing:\n",
      " 4\n",
      "[torch.cuda.LongTensor of size 1 (GPU 0)]\n",
      "\n",
      "[[-48.46164   47.65551  -20.169996 -42.265358 -16.818785 -32.10404\n",
      "  -21.66961  -13.91817  -22.853832 -23.22706 ]]\n",
      "ori: \n",
      " 1\n",
      "[torch.cuda.LongTensor of size 1x1 (GPU 0)]\n",
      "    Variable containing:\n",
      " 1\n",
      "[torch.cuda.LongTensor of size 1 (GPU 0)]\n",
      "\n"
     ]
    },
    {
     "data": {
      "image/png": "[encoded data removed]",
      "text/plain": [
       "<matplotlib.figure.Figure at 0x7f7ffb984ac8>"
      ]
     },
     "metadata": {
      "tags": []
     },
     "output_type": "display_data"
    },
    {
     "name": "stdout",
     "output_type": "stream",
     "text": [
      "45.66084042778015    1.0532794394860785\n",
      "[-48.07843698  45.66084043 -19.30134865 -40.25293763 -16.64834641\n",
      " -28.93658735 -20.83058394 -14.631148   -24.15258624 -22.9244679 ]\n",
      "noise: [45.66084042778015]    Variable containing:\n",
      " 1\n",
      "[torch.cuda.LongTensor of size 1 (GPU 0)]\n",
      "\n",
      "[[-26.387846  -12.42373   -12.865339  -16.97381    18.557945   -5.224591\n",
      "  -10.21058    -7.6660566  -8.140574    2.7114725]]\n",
      "ori: \n",
      " 4\n",
      "[torch.cuda.LongTensor of size 1x1 (GPU 0)]\n",
      "    Variable containing:\n",
      " 4\n",
      "[torch.cuda.LongTensor of size 1 (GPU 0)]\n",
      "\n"
     ]
    },
    {
     "data": {
      "image/png": "[encoded data removed]",
      "text/plain": [
       "<matplotlib.figure.Figure at 0x7f7ffb846780>"
      ]
     },
     "metadata": {
      "tags": []
     },
     "output_type": "display_data"
    },
    {
     "name": "stdout",
     "output_type": "stream",
     "text": [
      "-12.104299083423614    0.546868884054982\n",
      "[-23.9625893  -12.10429908 -12.41812908 -14.42913221  16.55631303\n",
      "  -4.21589824  -8.34896269  -6.98250721  -7.22583327   1.01401873]\n",
      "noise: [16.55631302804947]    Variable containing:\n",
      " 4\n",
      "[torch.cuda.LongTensor of size 1 (GPU 0)]\n",
      "\n",
      "[[ -7.55247    -23.707151   -14.44328      0.5246196   -0.33690137\n",
      "   -0.5564705  -14.169149    -9.737076     0.951084    20.589668  ]]\n",
      "ori: \n",
      " 9\n",
      "[torch.cuda.LongTensor of size 1x1 (GPU 0)]\n",
      "    Variable containing:\n",
      " 9\n",
      "[torch.cuda.LongTensor of size 1 (GPU 0)]\n",
      "\n"
     ]
    },
    {
     "data": {
      "image/png": "[encoded data removed]",
      "text/plain": [
       "<matplotlib.figure.Figure at 0x7f7ffb991208>"
      ]
     },
     "metadata": {
      "tags": []
     },
     "output_type": "display_data"
    },
    {
     "name": "stdout",
     "output_type": "stream",
     "text": [
      "-22.947879988670348    0.5953402312554751\n",
      "[ -6.28942172 -22.94787999 -14.56412113   1.03528779  -1.8450514\n",
      "  -2.27024572 -15.27600306  -9.31949595   0.96115569  19.71874375]\n",
      "noise: [19.718743750572205]    Variable containing:\n",
      " 9\n",
      "[torch.cuda.LongTensor of size 1 (GPU 0)]\n",
      "\n",
      "[[-35.557323  -26.735447  -43.464962  -14.267238  -30.971842   41.126987\n",
      "   -9.667468  -17.852026   -7.0670643  -5.7474213]]\n",
      "ori: \n",
      " 5\n",
      "[torch.cuda.LongTensor of size 1x1 (GPU 0)]\n",
      "    Variable containing:\n",
      " 5\n",
      "[torch.cuda.LongTensor of size 1 (GPU 0)]\n",
      "\n"
     ]
    },
    {
     "data": {
      "image/png": "[encoded data removed]",
      "text/plain": [
       "<matplotlib.figure.Figure at 0x7f7ffb7f90b8>"
      ]
     },
     "metadata": {
      "tags": []
     },
     "output_type": "display_data"
    },
    {
     "name": "stdout",
     "output_type": "stream",
     "text": [
      "-24.248900782394408    0.5915273047338377\n",
      "[-35.47573736 -24.24890078 -39.60911339 -13.336447   -28.87688414\n",
      "  37.75867658  -9.7099141  -15.78327237  -7.09803037  -4.21545708]\n",
      "noise: [37.75867657585144]    Variable containing:\n",
      " 5\n",
      "[torch.cuda.LongTensor of size 1 (GPU 0)]\n",
      "\n",
      "[[-27.383091  -22.567627  -20.041302   -9.557713   -1.1487352  -7.5291457\n",
      "  -35.57952     8.856948   -8.769423   29.07412  ]]\n",
      "ori: \n",
      " 9\n",
      "[torch.cuda.LongTensor of size 1x1 (GPU 0)]\n",
      "    Variable containing:\n",
      " 9\n",
      "[torch.cuda.LongTensor of size 1 (GPU 0)]\n",
      "\n"
     ]
    },
    {
     "data": {
      "image/png": "[encoded data removed]",
      "text/plain": [
       "<matplotlib.figure.Figure at 0x7f7ffbbff2e8>"
      ]
     },
     "metadata": {
      "tags": []
     },
     "output_type": "display_data"
    },
    {
     "name": "stdout",
     "output_type": "stream",
     "text": [
      "-21.821868110656737    0.7337639183907565\n",
      "[-25.6829677  -21.82186811 -18.89061641  -7.6949189   -0.78804614\n",
      "  -7.23974101 -36.72930462   9.03205443  -8.71152023  29.69312646]\n",
      "noise: [29.693126456260682]    Variable containing:\n",
      " 9\n",
      "[torch.cuda.LongTensor of size 1 (GPU 0)]\n",
      "\n"
     ]
    }
   ],
   "source": [
    "#对实际样本进行实验\n",
    "import heapq \n",
    "\n",
    "def exam():\n",
    "    mean=np.ones(10)\n",
    "    std=np.ones(10)\n",
    "    out=np.ones((10000,10),dtype=np.float)\n",
    "    model.eval()\n",
    "    for each_point in range(10):\n",
    "        #计算原本值\n",
    "        ori_data = Variable(ZZori[each_point:each_point+1].clone(), volatile=True)\n",
    "        ori_data = ori_data.type(torch.FloatTensor)\n",
    "        sample_label = Variable(yt[each_point:each_point+1].clone())\n",
    "        sample_label = sample_label.type(torch.LongTensor)\n",
    "        if use_gpu:\n",
    "            sample_label = sample_label.cuda()\n",
    "            ori_data = ori_data.cuda()\n",
    "        ori_out = model(ori_data)\n",
    "        pred = ori_out.data.max(1, keepdim=True)[1]\n",
    "        ori_out = ori_out.data.cpu().numpy()\n",
    "        print(ori_out)\n",
    "        print(\"ori:\",pred,\"  \",sample_label)\n",
    "        #计算噪声组\n",
    "        for each_sample in range(10000):\n",
    "            sample_data = Variable(ZZ[each_point*10000+each_sample:each_point*10000+each_sample+1].clone(), volatile=True)\n",
    "            sample_data = sample_data.type(torch.FloatTensor)\n",
    "            if use_gpu:\n",
    "                sample_data = sample_data.cuda()\n",
    "            sample_out = model(sample_data)\n",
    "            out[each_sample] = sample_out.data.cpu().numpy()\n",
    "        for tags in range(10):\n",
    "            mean[tags] = out[:,tags].mean()\n",
    "            std [tags] = out[:,tags].std()\n",
    "        count, bins, ignored = plt.hist(out[:,1], 30, normed=True)#输出分布图只画输出的第1维（整个输出是10维）\n",
    "        plt.plot(bins, 1/(std[1] * np.sqrt(2 * np.pi)) *np.exp( - (bins - mean[1])**2 / (2 * std[1]**2) ),linewidth=2, color='r')\n",
    "        plt.show()\n",
    "        print(mean[1],\"  \",std[1])\n",
    "        print(mean)\n",
    "        pred = heapq.nlargest(1,mean)\n",
    "        print(\"noise:\",pred,\"  \",sample_label)\n",
    "exam()"
   ]
  },
  {
   "cell_type": "code",
   "execution_count": 58,
   "metadata": {
    "id": "2-IEcmvjcGTm",
    "colab_type": "code",
    "colab": {
     "autoexec": {
      "startup": false,
      "wait_interval": 0.0
     },
     "output_extras": [
      {
       "item_id": 1.0
      }
     ],
     "base_uri": "https://localhost:8080/",
     "height": 12689.0
    },
    "outputId": "071561b1-f2c9-44d4-8fac-8dc1394af358",
    "executionInfo": {
     "status": "ok",
     "timestamp": 1.518364285862E12,
     "user_tz": -480.0,
     "elapsed": 817.0,
     "user": {
      "displayName": "钟凯",
      "photoUrl": "//lh6.googleusercontent.com/-53F6mnuxAtA/AAAAAAAAAAI/AAAAAAAAACM/PxkM5dM_cvI/s50-c-k-no/photo.jpg",
      "userId": "114268098483159509924"
     }
    }
   },
   "outputs": [
    {
     "name": "stdout",
     "output_type": "stream",
     "text": [
      "LeNet5(\n",
      "  (conv1): Conv2d (1, 6, kernel_size=(5, 5), stride=(1, 1), padding=(2, 2))\n",
      "  (conv2): Conv2d (6, 16, kernel_size=(5, 5), stride=(1, 1))\n",
      "  (fc1): Linear(in_features=400, out_features=120)\n",
      "  (fc2): Linear(in_features=120, out_features=84)\n",
      "  (fc3): Linear(in_features=84, out_features=10)\n",
      ")\n",
      "conv1.weight\n",
      "conv1.bias\n",
      "conv2.weight\n",
      "conv2.bias\n",
      "fc1.weight\n",
      "fc1.bias\n",
      "fc2.weight\n",
      "fc2.bias\n",
      "fc3.weight\n",
      "fc3.bias\n",
      "conv1.weight torch.Size([6, 1, 5, 5]) \n",
      "(0 ,0 ,.,.) = \n",
      " -0.0250  0.1207  0.1055  0.1101 -0.0352\n",
      "  0.0028  0.0420 -0.0993  0.1085  0.1265\n",
      " -0.0118  0.1727  0.0733 -0.1279  0.1613\n",
      " -0.2127 -0.1007 -0.0469  0.0407 -0.0986\n",
      " -0.0198  0.0531  0.0080 -0.0974 -0.0360\n",
      "\n",
      "(1 ,0 ,.,.) = \n",
      "  0.1199 -0.0714 -0.1394  0.0653  0.1349\n",
      "  0.1412  0.0756  0.0060  0.0296 -0.0180\n",
      " -0.0567  0.0096  0.0576 -0.1561 -0.1288\n",
      "  0.0241  0.1017 -0.0103  0.0188 -0.1488\n",
      " -0.1296  0.0208 -0.0281  0.0169 -0.0116\n",
      "\n",
      "(2 ,0 ,.,.) = \n",
      "  0.1117  0.1840  0.1363 -0.1612 -0.0939\n",
      "  0.1183 -0.0580 -0.1964 -0.0820  0.0096\n",
      " -0.0967 -0.1850  0.0099  0.0555 -0.0124\n",
      " -0.1845  0.0910 -0.0903  0.1186  0.1631\n",
      " -0.0112  0.0908  0.0818 -0.1241  0.0692\n",
      "\n",
      "(3 ,0 ,.,.) = \n",
      " -0.0204 -0.0179 -0.0030 -0.0077  0.0916\n",
      "  0.0014 -0.1362  0.0125 -0.1179  0.1543\n",
      "  0.0922 -0.1586 -0.2136  0.0250 -0.0802\n",
      "  0.0985  0.1582 -0.1579 -0.1955  0.0283\n",
      " -0.0338  0.0964  0.1308  0.0134 -0.0119\n",
      "\n",
      "(4 ,0 ,.,.) = \n",
      " -0.1815 -0.1266 -0.0982 -0.0040  0.0223\n",
      " -0.1645  0.0810  0.2065  0.2169 -0.0390\n",
      " -0.0114  0.1977  0.0645 -0.0045 -0.1524\n",
      "  0.0632 -0.1300  0.1463 -0.0403 -0.1289\n",
      " -0.1469  0.1543  0.0828 -0.0887 -0.0769\n",
      "\n",
      "(5 ,0 ,.,.) = \n",
      " -0.0443  0.1266  0.0493 -0.1429 -0.3560\n",
      "  0.0123  0.0302 -0.1417 -0.1705 -0.2211\n",
      "  0.2442  0.1449  0.0874  0.1216 -0.3205\n",
      " -0.0709 -0.2231  0.1357  0.0482 -0.2947\n",
      " -0.1756 -0.2176 -0.1289  0.0515 -0.2564\n",
      "[torch.cuda.FloatTensor of size 6x1x5x5 (GPU 0)]\n",
      "\n",
      "conv1.bias torch.Size([6]) \n",
      " 0.2683\n",
      "-0.3195\n",
      "-0.4333\n",
      "-0.3173\n",
      " 0.3055\n",
      " 0.2058\n",
      "[torch.cuda.FloatTensor of size 6 (GPU 0)]\n",
      "\n",
      "conv2.weight torch.Size([16, 6, 5, 5]) \n",
      "(0 ,0 ,.,.) = \n",
      "  0.0356  0.1406 -0.0690  0.0712  0.1701\n",
      "  0.1103  0.0029 -0.0265 -0.1182  0.0182\n",
      "  0.0395 -0.0866  0.0091 -0.2397 -0.0516\n",
      " -0.1691 -0.0492 -0.0772 -0.1553 -0.1526\n",
      "  0.0054  0.0875  0.0340 -0.1109  0.0189\n",
      "\n",
      "(0 ,1 ,.,.) = \n",
      "  0.0742  0.0990 -0.0378  0.0620 -0.0944\n",
      "  0.0062 -0.0252  0.0501  0.1044 -0.0714\n",
      " -0.0847 -0.0856  0.0068 -0.0201 -0.0457\n",
      " -0.3012 -0.0582  0.0044  0.0243 -0.0988\n",
      " -0.0169 -0.0728 -0.0060  0.0107 -0.0737\n",
      "\n",
      "(0 ,2 ,.,.) = \n",
      " -0.0535 -0.0547  0.0154  0.0137 -0.0675\n",
      "  0.0972 -0.0366  0.0202 -0.0836 -0.1303\n",
      "  0.1311  0.0582  0.0479 -0.0760 -0.1117\n",
      " -0.0067 -0.1146 -0.0686 -0.1982 -0.0240\n",
      " -0.0232  0.1495 -0.0601  0.0588  0.0891\n",
      "\n",
      "(0 ,3 ,.,.) = \n",
      " -0.0386  0.0341  0.1010  0.1322  0.0135\n",
      " -0.1441 -0.2079 -0.1025  0.0183 -0.0712\n",
      " -0.0061 -0.0744  0.0410  0.0465  0.0766\n",
      " -0.1148  0.0539  0.0316  0.0421  0.0117\n",
      "  0.0731 -0.0723  0.0346  0.0099  0.1110\n",
      "\n",
      "(0 ,4 ,.,.) = \n",
      "  0.0804  0.0821 -0.1567 -0.2066 -0.3787\n",
      " -0.0999  0.1210 -0.0290 -0.0968 -0.2367\n",
      " -0.1231 -0.1000 -0.1205 -0.1588 -0.1244\n",
      " -0.0662  0.0672  0.0619 -0.0038 -0.1135\n",
      "  0.0879  0.0282 -0.0712 -0.0399 -0.1191\n",
      "\n",
      "(0 ,5 ,.,.) = \n",
      "  0.0572 -0.0458  0.0040 -0.1565 -0.2029\n",
      " -0.0722 -0.0435  0.1142 -0.1355 -0.1332\n",
      " -0.0260 -0.0174 -0.1616 -0.2290 -0.0866\n",
      " -0.0277 -0.0575 -0.0844 -0.1134 -0.1546\n",
      " -0.0966 -0.1657 -0.0183  0.0782  0.1621\n",
      "     ⋮ \n",
      "\n",
      "(1 ,0 ,.,.) = \n",
      " -0.0077 -0.0372 -0.0379 -0.0729 -0.1075\n",
      " -0.0218 -0.1618 -0.0619 -0.0935 -0.0498\n",
      " -0.1058 -0.0669 -0.0483 -0.0095 -0.0766\n",
      "  0.0611  0.0424  0.0533  0.0556  0.0206\n",
      "  0.1344  0.0870  0.0394 -0.0304 -0.0093\n",
      "\n",
      "(1 ,1 ,.,.) = \n",
      " -0.0400  0.0198  0.0329  0.0056  0.0899\n",
      " -0.0817 -0.1229 -0.0441 -0.1584  0.0178\n",
      " -0.1569 -0.1498 -0.0794 -0.0392 -0.0548\n",
      " -0.1433  0.0452 -0.0076  0.0719 -0.0071\n",
      "  0.1145 -0.0261  0.0743  0.0337  0.0753\n",
      "\n",
      "(1 ,2 ,.,.) = \n",
      " -0.0345 -0.0717 -0.0098  0.1010 -0.0682\n",
      "  0.0169  0.0607  0.0695 -0.0628 -0.0557\n",
      " -0.0286  0.0868  0.0554  0.0259 -0.1256\n",
      "  0.0592  0.0259 -0.1608  0.0240  0.0162\n",
      " -0.1856 -0.0986  0.0062  0.0415 -0.0609\n",
      "\n",
      "(1 ,3 ,.,.) = \n",
      " -0.0361  0.0806  0.0578 -0.1124  0.0456\n",
      " -0.0184 -0.0803 -0.0534  0.0283 -0.0748\n",
      "  0.0559  0.1031  0.0253  0.0430 -0.0808\n",
      " -0.0532  0.0232  0.0566  0.0212 -0.1126\n",
      "  0.0196 -0.0298 -0.0445 -0.0573 -0.1288\n",
      "\n",
      "(1 ,4 ,.,.) = \n",
      " -0.0305 -0.0097  0.0407  0.0695 -0.0307\n",
      "  0.1518  0.0456  0.0410 -0.0189 -0.0618\n",
      "  0.0796 -0.1654 -0.0636  0.0072 -0.0166\n",
      " -0.0816 -0.1122  0.1000  0.0686  0.0449\n",
      " -0.0396 -0.0089  0.0037 -0.0441 -0.0169\n",
      "\n",
      "(1 ,5 ,.,.) = \n",
      "  0.2090  0.1677  0.0876  0.0698 -0.1347\n",
      " -0.0382 -0.0159  0.1158 -0.0793 -0.2387\n",
      " -0.0562 -0.1290 -0.1965  0.0688  0.0731\n",
      "  0.0961  0.1294  0.0851 -0.1215  0.0034\n",
      " -0.0391  0.1080  0.0535  0.0055  0.0385\n",
      "     ⋮ \n",
      "\n",
      "(2 ,0 ,.,.) = \n",
      " -0.0371 -0.0192 -0.0119  0.1110 -0.0160\n",
      "  0.0099 -0.0429 -0.1112  0.0228 -0.0443\n",
      "  0.0965 -0.0301 -0.1501 -0.0336  0.0336\n",
      "  0.0015 -0.0896 -0.1026  0.1133 -0.0066\n",
      " -0.0465 -0.0844 -0.0281  0.0402 -0.0200\n",
      "\n",
      "(2 ,1 ,.,.) = \n",
      "  0.0332  0.0864 -0.0701 -0.1186  0.1416\n",
      " -0.0488 -0.0054 -0.1455 -0.2093  0.1122\n",
      " -0.0361  0.0070 -0.0203 -0.2054 -0.0327\n",
      "  0.0704 -0.0077  0.0003 -0.2009 -0.0448\n",
      " -0.1879  0.0895 -0.0337 -0.1643 -0.0058\n",
      "\n",
      "(2 ,2 ,.,.) = \n",
      "  0.0317  0.0111 -0.0606  0.0694 -0.1113\n",
      "  0.0085 -0.1111 -0.0441 -0.0044  0.0013\n",
      " -0.0860 -0.0839  0.0078 -0.0097 -0.0367\n",
      " -0.1556 -0.0156  0.0110 -0.0443  0.0076\n",
      " -0.0582  0.0790  0.0493  0.0282  0.0084\n",
      "\n",
      "(2 ,3 ,.,.) = \n",
      " -0.0637 -0.0217  0.0340 -0.1355  0.0627\n",
      " -0.0737  0.0845  0.0443  0.0381 -0.0527\n",
      " -0.0566  0.0396  0.1499  0.0162 -0.0234\n",
      " -0.1200 -0.1318  0.0268  0.0384 -0.0291\n",
      " -0.0482 -0.1095  0.0696 -0.0062  0.0720\n",
      "\n",
      "(2 ,4 ,.,.) = \n",
      " -0.0429  0.0532 -0.0485 -0.0942  0.1959\n",
      "  0.1524  0.1378 -0.0623 -0.0370  0.1466\n",
      "  0.0388  0.1000 -0.1156  0.0105  0.1687\n",
      "  0.0753  0.1280 -0.1854 -0.0241 -0.0255\n",
      "  0.0639 -0.0236 -0.0707 -0.0552  0.0551\n",
      "\n",
      "(2 ,5 ,.,.) = \n",
      " -0.0468 -0.0184 -0.1106  0.0838 -0.0618\n",
      " -0.0997  0.0303 -0.0942 -0.1873  0.0294\n",
      " -0.0730 -0.0461  0.0606  0.1086  0.0550\n",
      "  0.0794  0.0529  0.0874 -0.0686  0.1143\n",
      "  0.1535 -0.0599 -0.2430  0.0347 -0.0194\n",
      "...   \n",
      "     ⋮ \n",
      "\n",
      "(13,0 ,.,.) = \n",
      " -0.0733 -0.0224 -0.0855  0.0120  0.0234\n",
      " -0.2598 -0.1369 -0.0632  0.0740  0.1148\n",
      " -0.0847 -0.0407 -0.0881 -0.0242 -0.0358\n",
      "  0.0322  0.0041 -0.1130 -0.0716 -0.0586\n",
      " -0.1185 -0.0490  0.0278 -0.0679 -0.0059\n",
      "\n",
      "(13,1 ,.,.) = \n",
      "  0.0746 -0.1157 -0.0690 -0.0419  0.0576\n",
      " -0.0413 -0.0154 -0.0192  0.1151 -0.0786\n",
      " -0.0651  0.0189  0.0234  0.0434 -0.0607\n",
      " -0.0512  0.0435  0.0458 -0.2713 -0.2295\n",
      " -0.0419 -0.0872 -0.0265  0.0481  0.0394\n",
      "\n",
      "(13,2 ,.,.) = \n",
      "  0.0222  0.0177 -0.0377  0.1622  0.0862\n",
      " -0.0067 -0.0569  0.0335 -0.0015 -0.0348\n",
      "  0.1193 -0.1663 -0.1343 -0.0402  0.1255\n",
      " -0.0428  0.2142  0.1155  0.1935 -0.0277\n",
      "  0.0898  0.1366 -0.0878 -0.1612  0.1125\n",
      "\n",
      "(13,3 ,.,.) = \n",
      " -0.1450 -0.0918 -0.1443 -0.0314  0.0449\n",
      " -0.0670 -0.1308  0.0042  0.0691 -0.0035\n",
      "  0.0509 -0.0089  0.0098 -0.0880 -0.0204\n",
      " -0.1425  0.0302 -0.1359 -0.0879  0.0408\n",
      " -0.0318 -0.0606 -0.0566  0.0664 -0.0315\n",
      "\n",
      "(13,4 ,.,.) = \n",
      "  0.0423 -0.0042  0.0328  0.0076  0.0630\n",
      " -0.2060  0.0245 -0.0545  0.0659  0.0365\n",
      "  0.0262 -0.0594 -0.0081 -0.1779 -0.2523\n",
      "  0.1314  0.0649 -0.2839 -0.0952 -0.0164\n",
      " -0.0329  0.0019  0.0999  0.1174 -0.0225\n",
      "\n",
      "(13,5 ,.,.) = \n",
      "  0.1273  0.0928 -0.1584  0.1112  0.1247\n",
      " -0.1008 -0.0301  0.0560  0.1386  0.0636\n",
      "  0.1335  0.1007  0.1197  0.1581  0.1283\n",
      "  0.0169  0.0880  0.0697 -0.0397 -0.0753\n",
      " -0.0210 -0.1536 -0.0934 -0.1111 -0.0448\n",
      "     ⋮ \n",
      "\n",
      "(14,0 ,.,.) = \n",
      " -0.0751 -0.0267  0.0495  0.0743 -0.0544\n",
      "  0.0547  0.1022 -0.0588 -0.0550  0.0824\n",
      "  0.0689 -0.0425 -0.1010  0.0450  0.0697\n",
      "  0.0124  0.0116  0.0086 -0.1582  0.1503\n",
      "  0.0249 -0.0041 -0.2372 -0.2178  0.1094\n",
      "\n",
      "(14,1 ,.,.) = \n",
      " -0.0916  0.0803 -0.0616  0.0690 -0.1631\n",
      "  0.0540  0.0116 -0.0466  0.0387 -0.2278\n",
      " -0.0052  0.0627 -0.0434  0.0330 -0.2342\n",
      " -0.1168  0.0513 -0.0871 -0.0843 -0.0407\n",
      " -0.0329 -0.0762 -0.0327 -0.2008  0.1114\n",
      "\n",
      "(14,2 ,.,.) = \n",
      " -0.0862 -0.1527 -0.0713 -0.0310 -0.0071\n",
      "  0.0137  0.1040 -0.0968 -0.0047  0.1023\n",
      "  0.0199 -0.0194 -0.0180  0.0578  0.0030\n",
      "  0.0241  0.0907  0.1465 -0.0323 -0.1673\n",
      "  0.1051  0.1406 -0.0830 -0.0437  0.0293\n",
      "\n",
      "(14,3 ,.,.) = \n",
      " -0.0603  0.0501  0.0374  0.0464 -0.2621\n",
      " -0.1309 -0.0752 -0.0834  0.0962  0.0931\n",
      " -0.1813  0.0423 -0.1693  0.0216  0.0671\n",
      " -0.0213 -0.0405 -0.0495  0.0641  0.0628\n",
      "  0.0118  0.0118 -0.0263  0.0307  0.0705\n",
      "\n",
      "(14,4 ,.,.) = \n",
      " -0.0943 -0.0059  0.0720 -0.0453 -0.0042\n",
      " -0.0823  0.0254 -0.0163 -0.1674 -0.0986\n",
      "  0.0709 -0.0416 -0.0479 -0.1577 -0.1641\n",
      "  0.1396  0.0259 -0.1664 -0.2756 -0.1321\n",
      "  0.0387 -0.0039 -0.0667 -0.2862  0.0380\n",
      "\n",
      "(14,5 ,.,.) = \n",
      "  0.1458 -0.1003  0.0388 -0.0471 -0.0389\n",
      " -0.0457 -0.0337 -0.0814  0.0675  0.0319\n",
      " -0.0675  0.0732 -0.0190  0.0970 -0.1683\n",
      "  0.0547  0.1046  0.0375 -0.2317 -0.2382\n",
      "  0.0050 -0.1212  0.0290 -0.1363 -0.2751\n",
      "     ⋮ \n",
      "\n",
      "(15,0 ,.,.) = \n",
      " -0.0922  0.0004  0.0755  0.1309 -0.0230\n",
      " -0.1421 -0.1610 -0.0183 -0.0131  0.0496\n",
      "  0.0610 -0.0670 -0.1656 -0.0976  0.0298\n",
      "  0.0166  0.0223 -0.0849 -0.0730  0.0053\n",
      "  0.0131 -0.0012 -0.0375 -0.0913  0.0521\n",
      "\n",
      "(15,1 ,.,.) = \n",
      " -0.0908 -0.0606 -0.0531  0.0420 -0.0571\n",
      " -0.0183 -0.0787 -0.1033  0.0695 -0.1227\n",
      " -0.0123  0.0770 -0.0268 -0.3494 -0.1846\n",
      " -0.1056  0.0365  0.1165 -0.0018 -0.1015\n",
      " -0.1148  0.0268 -0.0060 -0.1372  0.0368\n",
      "\n",
      "(15,2 ,.,.) = \n",
      " -0.0834  0.0141  0.0109  0.0179  0.0302\n",
      " -0.0249 -0.1216 -0.0226  0.0924  0.1235\n",
      "  0.0525 -0.0998 -0.2033 -0.0224  0.0545\n",
      "  0.0550 -0.0372  0.0156 -0.0291 -0.1191\n",
      "  0.1106 -0.1251 -0.0012  0.0417 -0.1561\n",
      "\n",
      "(15,3 ,.,.) = \n",
      "  0.0937 -0.1015 -0.0456 -0.0387 -0.0407\n",
      "  0.1983  0.1650  0.1032 -0.1033 -0.0186\n",
      " -0.0024  0.0530  0.1689  0.0370  0.0248\n",
      " -0.1654  0.0378  0.1352  0.0668  0.0173\n",
      " -0.1342 -0.0973 -0.0681  0.0288 -0.0456\n",
      "\n",
      "(15,4 ,.,.) = \n",
      " -0.0547 -0.0694 -0.0311 -0.0153  0.0106\n",
      "  0.0336 -0.0418  0.0266 -0.1343 -0.1290\n",
      " -0.1807  0.0574  0.0712 -0.2087  0.1086\n",
      "  0.1000 -0.0162  0.1503 -0.3007  0.0361\n",
      " -0.0146  0.0329 -0.0310 -0.0189  0.0135\n",
      "\n",
      "(15,5 ,.,.) = \n",
      " -0.1184  0.0349  0.1192 -0.0264  0.0777\n",
      "  0.0072 -0.0957  0.0774 -0.1472 -0.1010\n",
      "  0.1595  0.0164 -0.2994 -0.1091 -0.0721\n",
      "  0.0539 -0.0548 -0.1452  0.0673 -0.0941\n",
      "  0.0412  0.0768  0.0758 -0.1553 -0.2150\n",
      "[torch.cuda.FloatTensor of size 16x6x5x5 (GPU 0)]\n",
      "\n",
      "conv2.bias torch.Size([16]) \n",
      "-0.0408\n",
      "-0.1747\n",
      "-0.0784\n",
      "-0.2309\n",
      "-0.0852\n",
      "-0.0045\n",
      "-0.1583\n",
      "-0.1373\n",
      "-0.1180\n",
      "-0.0266\n",
      "-0.1840\n",
      "-0.3048\n",
      "-0.1339\n",
      "-0.2755\n",
      "-0.0835\n",
      "-0.1675\n",
      "[torch.cuda.FloatTensor of size 16 (GPU 0)]\n",
      "\n",
      "fc1.weight torch.Size([120, 400]) \n",
      "-1.1405e-01 -7.9421e-02 -4.3002e-02  ...  -4.0696e-02  3.8492e-02  6.0297e-02\n",
      " 3.9275e-02  2.7208e-02  4.7930e-02  ...  -3.1665e-02  6.9227e-02 -8.6593e-02\n",
      "-1.5494e-01 -5.5831e-02  9.2199e-03  ...  -8.1060e-02  1.5366e-01  1.0491e-01\n",
      "                ...                   ⋱                   ...                \n",
      " 1.2873e-02  1.5812e-02  8.1494e-03  ...  -1.0418e-01 -1.8529e-02  4.7836e-02\n",
      "-3.2472e-02  5.8209e-02  7.9667e-03  ...   3.3030e-03  1.0147e-01  2.5171e-02\n",
      " 1.6184e-02  2.1958e-02 -4.5261e-02  ...  -3.8639e-03  2.0247e-02  1.2586e-02\n",
      "[torch.cuda.FloatTensor of size 120x400 (GPU 0)]\n",
      "\n",
      "fc1.bias torch.Size([120]) \n",
      "1.00000e-02 *\n",
      " -2.5338\n",
      " -7.3033\n",
      " -9.4300\n",
      "  0.1182\n",
      "  1.5001\n",
      " -0.2399\n",
      " -6.1075\n",
      " -0.0397\n",
      "  2.4803\n",
      " -9.7317\n",
      "  1.7204\n",
      " -4.0829\n",
      "  4.9008\n",
      "  2.3781\n",
      "  2.8494\n",
      " -1.6195\n",
      " -7.0147\n",
      " -2.7401\n",
      " -1.4284\n",
      " -3.5820\n",
      " -1.4478\n",
      " -0.4046\n",
      "  0.5964\n",
      " -4.6684\n",
      " -3.0284\n",
      " -5.6870\n",
      " -3.8796\n",
      " -3.4637\n",
      "  1.9389\n",
      "  2.8975\n",
      " -4.5805\n",
      " -5.4303\n",
      " -4.2885\n",
      " -3.8863\n",
      "  0.3389\n",
      "  4.4809\n",
      " -6.6417\n",
      " -2.7834\n",
      " -4.1295\n",
      " -3.9071\n",
      "  2.2935\n",
      " -6.1807\n",
      " -5.0460\n",
      " -1.8536\n",
      " -4.1709\n",
      "  7.7835\n",
      "  0.8666\n",
      "  1.1788\n",
      " -3.1479\n",
      "  5.3346\n",
      " -5.7859\n",
      "  1.4925\n",
      " -0.4298\n",
      " -6.5390\n",
      " -1.0057\n",
      "  0.6396\n",
      " -3.2722\n",
      " -7.0407\n",
      " -1.4080\n",
      "  4.9652\n",
      " -4.2716\n",
      " -2.0481\n",
      " -0.7324\n",
      " -2.4107\n",
      "  0.0587\n",
      " -1.9898\n",
      " -3.4731\n",
      " -4.6466\n",
      "  1.1631\n",
      " -0.7671\n",
      "  0.5125\n",
      "  1.3322\n",
      " -7.9304\n",
      "  0.2247\n",
      "  0.7321\n",
      "  2.6049\n",
      " -6.1569\n",
      "  0.1162\n",
      " -4.7464\n",
      " -3.0903\n",
      " -3.4839\n",
      "  1.1054\n",
      "  7.1747\n",
      " -0.4720\n",
      " -1.8076\n",
      " -1.9908\n",
      "  2.3714\n",
      " -5.3411\n",
      " -0.6856\n",
      "  2.8793\n",
      " -5.2986\n",
      " -0.0007\n",
      "  1.4596\n",
      "  1.6012\n",
      " -4.9498\n",
      " -0.1676\n",
      " -6.5444\n",
      "  6.6058\n",
      " -3.2714\n",
      "  4.1060\n",
      " -2.6290\n",
      " -1.0196\n",
      " -5.1941\n",
      " -0.6171\n",
      " -3.8177\n",
      " -3.8567\n",
      " -3.5730\n",
      " -4.2823\n",
      " -2.1101\n",
      " -3.9404\n",
      "  3.5485\n",
      "  1.3355\n",
      " -2.0599\n",
      " -4.2063\n",
      " -4.2160\n",
      " -2.1064\n",
      "  3.6469\n",
      " -2.1728\n",
      " -2.4300\n",
      " -2.7995\n",
      "[torch.cuda.FloatTensor of size 120 (GPU 0)]\n",
      "\n",
      "fc2.weight torch.Size([84, 120]) \n",
      " 7.7715e-03 -7.0198e-02  6.1045e-02  ...   8.8648e-02  5.3878e-02  2.4898e-02\n",
      "-9.2214e-02 -1.8907e-02  6.7006e-02  ...  -6.3876e-02 -9.7583e-02 -3.0655e-02\n",
      "-8.6522e-03 -6.8043e-02 -6.1945e-03  ...   4.5172e-02  2.4649e-02  2.4701e-02\n",
      "                ...                   ⋱                   ...                \n",
      " 1.3016e-01 -1.5604e-01 -6.8706e-02  ...   8.4902e-02  1.5006e-01 -3.1882e-02\n",
      "-9.4906e-02  2.7309e-02 -3.3706e-02  ...  -2.8187e-02  3.1645e-02  1.5624e-02\n",
      "-1.2959e-01  1.0314e-01  5.5469e-02  ...  -6.1665e-02 -2.3061e-02  2.1147e-02\n",
      "[torch.cuda.FloatTensor of size 84x120 (GPU 0)]\n",
      "\n",
      "fc2.bias torch.Size([84]) \n",
      " 0.0364\n",
      "-0.0467\n",
      "-0.1109\n",
      " 0.0266\n",
      "-0.1484\n",
      "-0.1163\n",
      "-0.0245\n",
      " 0.0309\n",
      " 0.0381\n",
      "-0.1746\n",
      "-0.1520\n",
      "-0.1021\n",
      "-0.0026\n",
      "-0.0563\n",
      " 0.0233\n",
      "-0.0788\n",
      "-0.0022\n",
      "-0.0794\n",
      "-0.0764\n",
      "-0.0653\n",
      " 0.0696\n",
      "-0.0473\n",
      " 0.0183\n",
      " 0.0631\n",
      " 0.0114\n",
      "-0.0156\n",
      "-0.0747\n",
      " 0.0451\n",
      "-0.0124\n",
      "-0.0823\n",
      "-0.0994\n",
      "-0.0310\n",
      "-0.0026\n",
      " 0.0856\n",
      "-0.0360\n",
      " 0.0806\n",
      "-0.1085\n",
      "-0.1379\n",
      " 0.0046\n",
      "-0.1470\n",
      " 0.0963\n",
      "-0.1003\n",
      " 0.0252\n",
      " 0.0131\n",
      "-0.0950\n",
      "-0.0465\n",
      "-0.0743\n",
      "-0.0430\n",
      "-0.0728\n",
      "-0.0588\n",
      "-0.1125\n",
      "-0.1061\n",
      "-0.0451\n",
      " 0.0469\n",
      "-0.0160\n",
      "-0.1179\n",
      "-0.0210\n",
      "-0.1709\n",
      "-0.0577\n",
      " 0.0313\n",
      "-0.0712\n",
      "-0.1059\n",
      " 0.1647\n",
      "-0.0909\n",
      " 0.0292\n",
      "-0.0935\n",
      " 0.0356\n",
      "-0.0132\n",
      "-0.0331\n",
      " 0.0049\n",
      "-0.0815\n",
      " 0.0058\n",
      " 0.0903\n",
      "-0.0674\n",
      "-0.0263\n",
      "-0.0259\n",
      " 0.0063\n",
      "-0.1109\n",
      "-0.0880\n",
      " 0.0324\n",
      "-0.0067\n",
      " 0.0507\n",
      "-0.0634\n",
      "-0.1462\n",
      "[torch.cuda.FloatTensor of size 84 (GPU 0)]\n",
      "\n",
      "fc3.weight torch.Size([10, 84]) \n",
      "\n",
      "Columns 0 to 9 \n",
      " 0.1060  0.0232 -0.1448 -0.2109 -0.0881 -0.0477 -0.0993  0.0029  0.1257 -0.0966\n",
      "-0.0241  0.0245  0.0120 -0.1374  0.0480 -0.0581 -0.0029 -0.0209 -0.1075 -0.0468\n",
      "-0.0827 -0.1416 -0.0567  0.0745 -0.0512 -0.0441 -0.0222 -0.2134 -0.0929 -0.0179\n",
      "-0.1424 -0.1250 -0.1064  0.0768  0.1042  0.0549  0.0273 -0.1663  0.0136 -0.2544\n",
      " 0.1393  0.1449 -0.0990 -0.0295  0.1037 -0.1322 -0.0952  0.0273 -0.1515  0.0150\n",
      " 0.0066  0.0868  0.1470 -0.0615 -0.0793  0.0672 -0.0648  0.0184  0.0515 -0.1279\n",
      "-0.0484 -0.1150  0.0064 -0.0390 -0.1325 -0.0878 -0.2596  0.0639 -0.0791 -0.0773\n",
      "-0.0736 -0.1926 -0.1484  0.0068 -0.0832 -0.0513 -0.1138  0.0342 -0.1048 -0.1765\n",
      "-0.0002 -0.0775 -0.1034  0.0884 -0.1889 -0.0157  0.0307  0.0087 -0.0963 -0.0861\n",
      "-0.1896  0.0005 -0.1466  0.0287 -0.0370 -0.1373  0.0892 -0.1385 -0.0866  0.0294\n",
      "\n",
      "Columns 10 to 19 \n",
      " 0.0103  0.0360 -0.1697 -0.0406 -0.0594 -0.0988  0.0805  0.1423 -0.1049 -0.0173\n",
      "-0.1491 -0.0647  0.0848 -0.1492 -0.0190 -0.0457  0.1189 -0.0158  0.0779 -0.1538\n",
      "-0.1338  0.1191 -0.1531 -0.1504  0.0774 -0.0385  0.0627 -0.0777  0.0912  0.0641\n",
      " 0.0356  0.0398 -0.0179  0.0860  0.0805 -0.0920 -0.1269 -0.2547  0.0015  0.1222\n",
      "-0.0111 -0.0059 -0.0104 -0.0103  0.0166  0.1075 -0.0277 -0.1840  0.0612  0.0324\n",
      " 0.0535 -0.1106 -0.1472  0.0750 -0.0713 -0.0769 -0.0161 -0.1156 -0.0142  0.0834\n",
      " 0.0600 -0.0940  0.0137 -0.0598  0.0399  0.0207  0.1518 -0.0268 -0.0805  0.0709\n",
      "-0.0281 -0.1411 -0.2159 -0.1737  0.0933 -0.1141 -0.0774 -0.0901 -0.0357 -0.0870\n",
      "-0.0786  0.0381 -0.0883  0.0719 -0.1850 -0.0426 -0.0877 -0.1899 -0.1381 -0.0549\n",
      " 0.0978 -0.0545 -0.1629  0.0089 -0.0768  0.1246 -0.1218  0.0437  0.0459 -0.1258\n",
      "\n",
      "Columns 20 to 29 \n",
      "-0.1581 -0.1728 -0.0022  0.0635 -0.2385  0.0591 -0.0488 -0.1169 -0.0455 -0.1623\n",
      " 0.0590  0.1201 -0.0399 -0.0733 -0.0874 -0.1218 -0.2757  0.0158 -0.0538  0.1861\n",
      "-0.1446  0.1112  0.0500  0.1164  0.0534 -0.0725  0.0643  0.0766 -0.2378 -0.0253\n",
      "-0.0790 -0.1148 -0.0804  0.0677  0.0648 -0.1086  0.0395 -0.1285 -0.0993  0.0586\n",
      " 0.1108 -0.0251  0.0428 -0.2008 -0.2278  0.0923  0.0351  0.0744 -0.0638 -0.1139\n",
      "-0.0407 -0.0021 -0.2146 -0.0140 -0.0370 -0.1276 -0.1388  0.1007  0.1306  0.0767\n",
      "-0.1484  0.0164 -0.1148 -0.0534 -0.0602  0.0952 -0.1876 -0.0882  0.0991 -0.1709\n",
      " 0.1299 -0.0448  0.1021 -0.1248 -0.0259  0.0052  0.0158  0.0063 -0.0794 -0.0740\n",
      " 0.0827  0.0613 -0.1504  0.0775  0.0181 -0.0762  0.0474  0.0829  0.0603 -0.1556\n",
      " 0.1045  0.0222  0.0305 -0.1416 -0.1179  0.0503  0.0958  0.0100  0.0316  0.0606\n",
      "\n",
      "Columns 30 to 39 \n",
      "-0.0891  0.0172  0.0551  0.1270 -0.0060  0.0726  0.0540  0.0231  0.0774  0.0333\n",
      " 0.0746 -0.0700 -0.1197 -0.0690  0.0415  0.0999 -0.1040  0.0374 -0.1693  0.0559\n",
      " 0.0313 -0.0109 -0.1165  0.0529  0.0249  0.0603 -0.1802 -0.0908  0.0038  0.1593\n",
      " 0.0330 -0.1153 -0.1591 -0.1023  0.0008 -0.0067  0.0711 -0.0717  0.0337  0.0437\n",
      " 0.0597 -0.0544 -0.2430 -0.1194  0.0962  0.0636  0.0908 -0.1688  0.0076 -0.0052\n",
      "-0.1623  0.0281  0.0603 -0.0503 -0.0573  0.0590  0.0693 -0.1807 -0.0718 -0.1857\n",
      "-0.0208  0.0102  0.1137  0.0556  0.0496  0.0375 -0.1331 -0.0107 -0.1637 -0.0226\n",
      "-0.0816 -0.0905  0.0738 -0.0919 -0.0491  0.0599  0.0762 -0.1106  0.0858  0.0251\n",
      "-0.1251 -0.0051  0.0657  0.1050 -0.1655 -0.1594 -0.0482  0.0341 -0.0292 -0.0030\n",
      "-0.1097  0.1166 -0.0796 -0.1255  0.1208 -0.0388  0.0523  0.0085 -0.1406 -0.1011\n",
      "\n",
      "Columns 40 to 49 \n",
      "-0.0862  0.0717  0.0912 -0.0640 -0.0689  0.0023 -0.0050  0.0522 -0.0249 -0.1066\n",
      "-0.0213  0.0603 -0.1932 -0.1893  0.0178  0.0254  0.0065 -0.1044  0.0733  0.0262\n",
      "-0.1444  0.1090  0.0847 -0.0762 -0.1127 -0.0297 -0.0528  0.1177 -0.1680 -0.0233\n",
      " 0.0850  0.0356 -0.0348 -0.1052  0.0483 -0.0052  0.0121  0.0085 -0.1171 -0.0376\n",
      " 0.0341 -0.0546  0.0924  0.0505 -0.0437 -0.0233 -0.0814 -0.1282  0.0570 -0.1893\n",
      " 0.0716 -0.0072 -0.0396 -0.0105 -0.0866  0.0360  0.0723 -0.1470 -0.0277 -0.0990\n",
      "-0.0969  0.0066  0.0073  0.0436 -0.0116 -0.1253 -0.0159 -0.1919 -0.0780 -0.1192\n",
      "-0.1366 -0.0564 -0.2010  0.0017 -0.0119 -0.0659  0.1786  0.0843  0.0493  0.0625\n",
      " 0.1012 -0.0159  0.0271 -0.1426  0.0388  0.0723 -0.0953  0.0473  0.0742 -0.1696\n",
      " 0.0247 -0.0870 -0.0393 -0.0815  0.0399  0.0527  0.0846 -0.0176  0.0722 -0.0415\n",
      "\n",
      "Columns 50 to 59 \n",
      "-0.3089  0.1264 -0.0400 -0.0926  0.0651  0.1468 -0.1411  0.0757 -0.0926 -0.0968\n",
      " 0.0509 -0.0906 -0.1942 -0.0826  0.0439 -0.0338 -0.0105 -0.2063  0.1125 -0.1422\n",
      "-0.0955 -0.0169  0.0981  0.0206  0.0077 -0.1559 -0.1801  0.0222  0.1335 -0.1300\n",
      " 0.0803 -0.1215  0.0456 -0.1040  0.0258 -0.0423  0.0040 -0.0597 -0.0907 -0.3279\n",
      "-0.2183 -0.0126  0.0555  0.1088 -0.1781  0.0148 -0.2064  0.0599  0.0266 -0.1504\n",
      " 0.0413  0.0228  0.1032 -0.1963 -0.0051 -0.1332 -0.1198  0.0652 -0.2114  0.0253\n",
      "-0.0397 -0.0900 -0.0862  0.0794 -0.1454  0.0171 -0.2054  0.0737 -0.1474 -0.1992\n",
      " 0.0181 -0.1306  0.1005 -0.1721 -0.0012 -0.0071 -0.0470 -0.0224 -0.0245 -0.1616\n",
      "-0.1017 -0.0665 -0.0304 -0.1469 -0.1096  0.0400 -0.1253 -0.2031  0.0879  0.0602\n",
      " 0.0010 -0.0305  0.0462 -0.0224  0.0178  0.0332 -0.0968  0.0212 -0.0533  0.0262\n",
      "\n",
      "Columns 60 to 69 \n",
      "-0.0866  0.0168 -0.0040  0.0808 -0.0520 -0.0355 -0.1850  0.1132 -0.1703  0.0397\n",
      "-0.0991 -0.1869  0.0947  0.0078 -0.1017 -0.1141  0.0073 -0.1330 -0.0078  0.0642\n",
      " 0.0113 -0.1084 -0.0064 -0.0838  0.1002  0.1468 -0.0753 -0.1452 -0.0786  0.0146\n",
      " 0.0975 -0.1947  0.0420  0.0659 -0.1266 -0.0052  0.0135  0.0410  0.0602 -0.1429\n",
      "-0.2337  0.0245 -0.0244 -0.0785  0.0149 -0.0403  0.0020 -0.1470 -0.0786 -0.0691\n",
      " 0.0527  0.0857 -0.1584  0.0431 -0.1182  0.0004  0.0511 -0.1440  0.1214 -0.0912\n",
      " 0.0429 -0.0832 -0.0366 -0.0538 -0.0810  0.1403  0.1133  0.0216  0.0043 -0.0620\n",
      "-0.1215  0.0276  0.0637  0.0781  0.0128  0.0248 -0.0204 -0.0123 -0.0817  0.1123\n",
      " 0.0347 -0.1739 -0.0065 -0.0962 -0.1056 -0.1191  0.1116  0.0907 -0.0945 -0.1429\n",
      "-0.0516 -0.0570 -0.2014  0.0542  0.0046 -0.1474 -0.2209  0.0746 -0.0254  0.0216\n",
      "\n",
      "Columns 70 to 79 \n",
      " 0.0607 -0.0130 -0.1725 -0.0630  0.0867 -0.0887 -0.0936 -0.0543 -0.1920  0.0427\n",
      " 0.0768 -0.0087  0.0941  0.0640 -0.0442 -0.0188 -0.0141  0.1194 -0.0798  0.0190\n",
      "-0.0901  0.0868  0.0491  0.0262 -0.0295 -0.0945 -0.0152 -0.0941  0.0114 -0.0717\n",
      " 0.0930  0.0188  0.1113 -0.1905 -0.2697  0.0201 -0.1018 -0.1029  0.0654 -0.0907\n",
      "-0.0265  0.0653 -0.0888 -0.1272 -0.0345 -0.0906 -0.0294  0.0408  0.0547  0.0511\n",
      "-0.0871 -0.0161 -0.0445 -0.0735  0.0501 -0.0601 -0.1503 -0.1025  0.0737 -0.0089\n",
      " 0.0434 -0.2513 -0.1788  0.0289 -0.1175 -0.1563 -0.1883 -0.0606  0.0686 -0.0392\n",
      "-0.0533  0.0678  0.0605 -0.0081 -0.0945 -0.0710  0.0177  0.0412 -0.1298 -0.0303\n",
      "-0.1239 -0.2163 -0.0261 -0.1480 -0.0142  0.0489  0.1139 -0.0200  0.0546  0.1475\n",
      " 0.0429  0.0639 -0.1224  0.0421 -0.0831 -0.0539 -0.1562 -0.0439  0.0778 -0.0958\n",
      "\n",
      "Columns 80 to 83 \n",
      "-0.0755  0.1063 -0.1411  0.0662\n",
      "-0.0082  0.0365 -0.1939 -0.0157\n",
      "-0.1250 -0.1161 -0.0819  0.0192\n",
      "-0.0903 -0.0619 -0.0652  0.0685\n",
      " 0.0127 -0.0976 -0.0997 -0.0834\n",
      "-0.0239  0.0165 -0.0154  0.0587\n",
      "-0.1346  0.1101  0.1824  0.0258\n",
      "-0.1634 -0.1162 -0.0330 -0.0916\n",
      "-0.0262  0.1111  0.0321 -0.0952\n",
      "-0.0333 -0.1338 -0.0199  0.0991\n",
      "[torch.cuda.FloatTensor of size 10x84 (GPU 0)]\n",
      "\n",
      "fc3.bias torch.Size([10]) \n",
      "-0.0597\n",
      " 0.0036\n",
      "-0.0902\n",
      " 0.0690\n",
      "-0.0323\n",
      "-0.0895\n",
      " 0.0813\n",
      " 0.0185\n",
      " 0.0690\n",
      "-0.1185\n",
      "[torch.cuda.FloatTensor of size 10 (GPU 0)]\n",
      "\n"
     ]
    }
   ],
   "source": [
    "print(model)\n",
    "params=model.state_dict() \n",
    "for k,v in params.items():\n",
    "    print(k)    #打印网络中的变量名\n",
    "print(\"conv1.weight\",params['conv1.weight'].size(),params['conv1.weight'])   #打印conv1的weight\n",
    "print(\"conv1.bias\",params['conv1.bias'].size(),params['conv1.bias'])   #打印conv1的bias  \n",
    "print(\"conv2.weight\",params['conv2.weight'].size(),params['conv2.weight'])   #打印conv1的weight\n",
    "print(\"conv2.bias\",params['conv2.bias'].size(),params['conv2.bias'])   #打印conv1的bias  \n",
    "print(\"fc1.weight\",params['fc1.weight'].size(),params['fc1.weight'])   #打印conv1的weight\n",
    "print(\"fc1.bias\",params['fc1.bias'].size(),params['fc1.bias'])   #打印conv1的bias  \n",
    "print(\"fc2.weight\",params['fc2.weight'].size(),params['fc2.weight'])   #打印conv1的weight\n",
    "print(\"fc2.bias\",params['fc2.bias'].size(),params['fc2.bias'])   #打印conv1的bias  \n",
    "print(\"fc3.weight\",params['fc3.weight'].size(),params['fc3.weight'])   #打印conv1的weight\n",
    "print(\"fc3.bias\",params['fc3.bias'].size(),params['fc3.bias'])   #打印conv1的bias"
   ]
  }
 ],
 "metadata": {
  "colab": {
   "name": "LeNet.ipynb",
   "version": "0.3.2",
   "views": {},
   "default_view": {},
   "provenance": [],
   "collapsed_sections": []
  },
  "kernelspec": {
   "name": "python3",
   "display_name": "Python 3"
  },
  "accelerator": "GPU"
 },
 "nbformat": 4,
 "nbformat_minor": 0
}